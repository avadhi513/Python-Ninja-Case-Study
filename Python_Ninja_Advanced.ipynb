{
 "cells": [
  {
   "cell_type": "markdown",
   "metadata": {
    "id": "WmGanm0OS2ZP"
   },
   "source": [
    "# Import Libraries"
   ]
  },
  {
   "cell_type": "code",
   "execution_count": 1,
   "metadata": {
    "id": "7PcPzLFsJ5vV"
   },
   "outputs": [],
   "source": [
    "import numpy as np\n",
    "import pandas as pd\n",
    "from datetime import timedelta\n",
    "from matplotlib import pyplot as plt\n",
    "import seaborn as sns\n",
    "\n",
    "import warnings\n",
    "# Ignore all warnings\n",
    "warnings.filterwarnings(\"ignore\")"
   ]
  },
  {
   "cell_type": "markdown",
   "metadata": {
    "id": "4lsj39y4KIWu"
   },
   "source": [
    "# Context:\n",
    "\n",
    "A large e-commerce company has contracted us to provide delivery services from several of their warehouses(or sites) to customers' doorsteps at several locations across the country.\n",
    "\n",
    "The dataset contains information about the performance of our delivery agents working at our client's sites across cities in India.\n",
    "\n",
    "The idea of this exercise is to gain insights into their performance and make data driven strategic recommendations for imporvement.\n",
    "\n",
    "***NOTE: The dataset contains information for only one month, i.e June 2023***"
   ]
  },
  {
   "cell_type": "markdown",
   "metadata": {
    "id": "o1HlFcnkKuh-"
   },
   "source": [
    "# Features in the Dataset\n",
    "* Site Code - A unique ID belonging to the site at which our delivery agents work.\n",
    "* City - Name of the city in which the site is located.\n",
    "* Vehicle Type - \"Van DCD\" means the delivery agent drives his own van and delivers packages. \"Bike\" means the delivery agent rides his own bike and delivers packages. \"Van D+DA\" means the delivery agent doesn't drive, but is instead driven around the city by a van driver.\n",
    "* Cluster - Cities are grouped into clusters based on certain characteristics.\n",
    "* Date - The date that the delivery agent reported for work.\n",
    "* Delivery Agent ID - A unique identifier assigned to each delivery agent who works with us.\n",
    "* Shift - \"A\" indicates morning, \"B\" indicates afternoon, \"C\" indicates evening.\n",
    "* Unsuccessful_Attempts - The number of packages that the delivery agent attempted to deliver, but the delivery was not possible for various reasons\n",
    "* Process_Deviations - The number of times the delivery agent deviated from the process during the shift.\n",
    "* Delivered - The number of packages that the delivery agent delivered during the shift.\n",
    "* Customer_Rejects - The number of packages that customers rejected when the delivery agent went to deliver them.\n",
    "* Picked_up_Customer_Returns - The number of packages the delivery agent picked up from customers who wanted to return something that they had ordered earlier.\n",
    "* Picked_up_Seller - The number of packages that the delivery agent picked up from sellers on the platform. These packages would be sent out for delivery to customers the next day.\n",
    "* billing_amt - The amount that we bill our clients for the services rendered by our delivery agents.\n"
   ]
  },
  {
   "cell_type": "markdown",
   "metadata": {
    "id": "vlc1lc2lTtwD"
   },
   "source": [
    "# Question 1"
   ]
  },
  {
   "cell_type": "markdown",
   "metadata": {
    "id": "B9nC16gSIHQ4"
   },
   "source": [
    "Load the dataset into a dataframe and name it \"daily_df\". Display a sample of 10 random rows, display the shape of the dataset, the datatypes of each column, and check for missing values."
   ]
  },
  {
   "cell_type": "code",
   "execution_count": 2,
   "metadata": {
    "id": "2JOeT8VeKFT1"
   },
   "outputs": [],
   "source": [
    "# Loading the dataset using the .read_csv function in python\n",
    "\n",
    "daily_df = pd.read_csv(\"warehouse_delivery.csv\")"
   ]
  },
  {
   "cell_type": "code",
   "execution_count": 3,
   "metadata": {
    "colab": {
     "base_uri": "https://localhost:8080/",
     "height": 748
    },
    "id": "pTbKPRa6Ui8I",
    "outputId": "8971175f-4291-4983-d5e2-6f52d5b3dab2",
    "scrolled": false
   },
   "outputs": [
    {
     "data": {
      "text/html": [
       "<div>\n",
       "<style scoped>\n",
       "    .dataframe tbody tr th:only-of-type {\n",
       "        vertical-align: middle;\n",
       "    }\n",
       "\n",
       "    .dataframe tbody tr th {\n",
       "        vertical-align: top;\n",
       "    }\n",
       "\n",
       "    .dataframe thead th {\n",
       "        text-align: right;\n",
       "    }\n",
       "</style>\n",
       "<table border=\"1\" class=\"dataframe\">\n",
       "  <thead>\n",
       "    <tr style=\"text-align: right;\">\n",
       "      <th></th>\n",
       "      <th>Site Code</th>\n",
       "      <th>city</th>\n",
       "      <th>Vehicle_type</th>\n",
       "      <th>cluster</th>\n",
       "      <th>Date</th>\n",
       "      <th>Delivery Agent ID</th>\n",
       "      <th>Shift</th>\n",
       "      <th>Unsuccessful_Attempts</th>\n",
       "      <th>Process_Deviations</th>\n",
       "      <th>Delivered</th>\n",
       "      <th>Customer_Rejects</th>\n",
       "      <th>Picked_up_Customer_Returns</th>\n",
       "      <th>Picked up_Seller</th>\n",
       "      <th>billing_amt</th>\n",
       "      <th>Unnamed: 14</th>\n",
       "      <th>Unnamed: 15</th>\n",
       "    </tr>\n",
       "  </thead>\n",
       "  <tbody>\n",
       "    <tr>\n",
       "      <th>0</th>\n",
       "      <td>Site_22</td>\n",
       "      <td>HYDERABAD</td>\n",
       "      <td>Bike</td>\n",
       "      <td>4.0</td>\n",
       "      <td>2023-06-27 00:00:00</td>\n",
       "      <td>DA_280</td>\n",
       "      <td>A</td>\n",
       "      <td>0.0</td>\n",
       "      <td>0.0</td>\n",
       "      <td>3.0</td>\n",
       "      <td>1.0</td>\n",
       "      <td>26.0</td>\n",
       "      <td>0.0</td>\n",
       "      <td>955.0</td>\n",
       "      <td>NaN</td>\n",
       "      <td>NaN</td>\n",
       "    </tr>\n",
       "    <tr>\n",
       "      <th>1</th>\n",
       "      <td>Site_10</td>\n",
       "      <td>BANGALORE</td>\n",
       "      <td>Van DCD</td>\n",
       "      <td>4.0</td>\n",
       "      <td>2023-06-08 00:00:00</td>\n",
       "      <td>DA_273</td>\n",
       "      <td>A</td>\n",
       "      <td>0.0</td>\n",
       "      <td>9.0</td>\n",
       "      <td>60.0</td>\n",
       "      <td>1.0</td>\n",
       "      <td>20.0</td>\n",
       "      <td>0.0</td>\n",
       "      <td>2075.0</td>\n",
       "      <td>NaN</td>\n",
       "      <td>NaN</td>\n",
       "    </tr>\n",
       "    <tr>\n",
       "      <th>2</th>\n",
       "      <td>Site_3</td>\n",
       "      <td>BANGALORE</td>\n",
       "      <td>Bike</td>\n",
       "      <td>4.0</td>\n",
       "      <td>2023-06-25 00:00:00</td>\n",
       "      <td>DA_370</td>\n",
       "      <td>C</td>\n",
       "      <td>2.0</td>\n",
       "      <td>0.0</td>\n",
       "      <td>15.0</td>\n",
       "      <td>0.0</td>\n",
       "      <td>2.0</td>\n",
       "      <td>0.0</td>\n",
       "      <td>571.0</td>\n",
       "      <td>NaN</td>\n",
       "      <td>NaN</td>\n",
       "    </tr>\n",
       "    <tr>\n",
       "      <th>3</th>\n",
       "      <td>Site_10</td>\n",
       "      <td>BANGALORE</td>\n",
       "      <td>Van DCD</td>\n",
       "      <td>4.0</td>\n",
       "      <td>2023-06-22 00:00:00</td>\n",
       "      <td>DA_118</td>\n",
       "      <td>B</td>\n",
       "      <td>1.0</td>\n",
       "      <td>0.0</td>\n",
       "      <td>15.0</td>\n",
       "      <td>0.0</td>\n",
       "      <td>0.0</td>\n",
       "      <td>0.0</td>\n",
       "      <td>1275.0</td>\n",
       "      <td>NaN</td>\n",
       "      <td>NaN</td>\n",
       "    </tr>\n",
       "    <tr>\n",
       "      <th>4</th>\n",
       "      <td>Site_4</td>\n",
       "      <td>BANGALORE</td>\n",
       "      <td>Van DCD</td>\n",
       "      <td>4.0</td>\n",
       "      <td>2023-06-11 00:00:00</td>\n",
       "      <td>DA_136</td>\n",
       "      <td>B</td>\n",
       "      <td>5.0</td>\n",
       "      <td>0.0</td>\n",
       "      <td>40.0</td>\n",
       "      <td>1.0</td>\n",
       "      <td>0.0</td>\n",
       "      <td>0.0</td>\n",
       "      <td>1353.0</td>\n",
       "      <td>NaN</td>\n",
       "      <td>NaN</td>\n",
       "    </tr>\n",
       "    <tr>\n",
       "      <th>5</th>\n",
       "      <td>Site_3</td>\n",
       "      <td>BANGALORE</td>\n",
       "      <td>Van DCD</td>\n",
       "      <td>4.0</td>\n",
       "      <td>2023-06-24 00:00:00</td>\n",
       "      <td>DA_36</td>\n",
       "      <td>B</td>\n",
       "      <td>0.0</td>\n",
       "      <td>0.0</td>\n",
       "      <td>22.0</td>\n",
       "      <td>0.0</td>\n",
       "      <td>0.0</td>\n",
       "      <td>0.0</td>\n",
       "      <td>1429.0</td>\n",
       "      <td>NaN</td>\n",
       "      <td>NaN</td>\n",
       "    </tr>\n",
       "    <tr>\n",
       "      <th>6</th>\n",
       "      <td>Site_19</td>\n",
       "      <td>HYDERABAD</td>\n",
       "      <td>Bike</td>\n",
       "      <td>4.0</td>\n",
       "      <td>2023-06-05 00:00:00</td>\n",
       "      <td>DA_295</td>\n",
       "      <td>C</td>\n",
       "      <td>2.0</td>\n",
       "      <td>0.0</td>\n",
       "      <td>29.0</td>\n",
       "      <td>0.0</td>\n",
       "      <td>2.0</td>\n",
       "      <td>0.0</td>\n",
       "      <td>613.0</td>\n",
       "      <td>NaN</td>\n",
       "      <td>NaN</td>\n",
       "    </tr>\n",
       "    <tr>\n",
       "      <th>7</th>\n",
       "      <td>Site_27</td>\n",
       "      <td>MUMBAI</td>\n",
       "      <td>Bike</td>\n",
       "      <td>3.0</td>\n",
       "      <td>2023-06-08 00:00:00</td>\n",
       "      <td>DA_224</td>\n",
       "      <td>A</td>\n",
       "      <td>2.0</td>\n",
       "      <td>0.0</td>\n",
       "      <td>13.0</td>\n",
       "      <td>0.0</td>\n",
       "      <td>31.0</td>\n",
       "      <td>0.0</td>\n",
       "      <td>933.0</td>\n",
       "      <td>NaN</td>\n",
       "      <td>NaN</td>\n",
       "    </tr>\n",
       "    <tr>\n",
       "      <th>8</th>\n",
       "      <td>Site_23</td>\n",
       "      <td>CHENNAI</td>\n",
       "      <td>Bike</td>\n",
       "      <td>3.0</td>\n",
       "      <td>2023-06-23 00:00:00</td>\n",
       "      <td>DA_686</td>\n",
       "      <td>A</td>\n",
       "      <td>0.0</td>\n",
       "      <td>0.0</td>\n",
       "      <td>0.0</td>\n",
       "      <td>0.0</td>\n",
       "      <td>31.0</td>\n",
       "      <td>0.0</td>\n",
       "      <td>907.0</td>\n",
       "      <td>NaN</td>\n",
       "      <td>NaN</td>\n",
       "    </tr>\n",
       "    <tr>\n",
       "      <th>9</th>\n",
       "      <td>Site_16</td>\n",
       "      <td>BANGALORE</td>\n",
       "      <td>Bike</td>\n",
       "      <td>4.0</td>\n",
       "      <td>2023-06-23 00:00:00</td>\n",
       "      <td>DA_569</td>\n",
       "      <td>B</td>\n",
       "      <td>3.0</td>\n",
       "      <td>0.0</td>\n",
       "      <td>34.0</td>\n",
       "      <td>0.0</td>\n",
       "      <td>2.0</td>\n",
       "      <td>0.0</td>\n",
       "      <td>772.0</td>\n",
       "      <td>NaN</td>\n",
       "      <td>NaN</td>\n",
       "    </tr>\n",
       "  </tbody>\n",
       "</table>\n",
       "</div>"
      ],
      "text/plain": [
       "  Site Code       city Vehicle_type  cluster                 Date  \\\n",
       "0   Site_22  HYDERABAD         Bike      4.0  2023-06-27 00:00:00   \n",
       "1   Site_10  BANGALORE      Van DCD      4.0  2023-06-08 00:00:00   \n",
       "2    Site_3  BANGALORE         Bike      4.0  2023-06-25 00:00:00   \n",
       "3   Site_10  BANGALORE      Van DCD      4.0  2023-06-22 00:00:00   \n",
       "4    Site_4  BANGALORE      Van DCD      4.0  2023-06-11 00:00:00   \n",
       "5    Site_3  BANGALORE      Van DCD      4.0  2023-06-24 00:00:00   \n",
       "6   Site_19  HYDERABAD         Bike      4.0  2023-06-05 00:00:00   \n",
       "7   Site_27     MUMBAI         Bike      3.0  2023-06-08 00:00:00   \n",
       "8   Site_23    CHENNAI         Bike      3.0  2023-06-23 00:00:00   \n",
       "9   Site_16  BANGALORE         Bike      4.0  2023-06-23 00:00:00   \n",
       "\n",
       "  Delivery Agent ID Shift  Unsuccessful_Attempts  Process_Deviations  \\\n",
       "0            DA_280     A                    0.0                 0.0   \n",
       "1            DA_273     A                    0.0                 9.0   \n",
       "2            DA_370     C                    2.0                 0.0   \n",
       "3            DA_118     B                    1.0                 0.0   \n",
       "4            DA_136     B                    5.0                 0.0   \n",
       "5             DA_36     B                    0.0                 0.0   \n",
       "6            DA_295     C                    2.0                 0.0   \n",
       "7            DA_224     A                    2.0                 0.0   \n",
       "8            DA_686     A                    0.0                 0.0   \n",
       "9            DA_569     B                    3.0                 0.0   \n",
       "\n",
       "   Delivered  Customer_Rejects  Picked_up_Customer_Returns  Picked up_Seller  \\\n",
       "0        3.0               1.0                        26.0               0.0   \n",
       "1       60.0               1.0                        20.0               0.0   \n",
       "2       15.0               0.0                         2.0               0.0   \n",
       "3       15.0               0.0                         0.0               0.0   \n",
       "4       40.0               1.0                         0.0               0.0   \n",
       "5       22.0               0.0                         0.0               0.0   \n",
       "6       29.0               0.0                         2.0               0.0   \n",
       "7       13.0               0.0                        31.0               0.0   \n",
       "8        0.0               0.0                        31.0               0.0   \n",
       "9       34.0               0.0                         2.0               0.0   \n",
       "\n",
       "   billing_amt  Unnamed: 14  Unnamed: 15  \n",
       "0        955.0          NaN          NaN  \n",
       "1       2075.0          NaN          NaN  \n",
       "2        571.0          NaN          NaN  \n",
       "3       1275.0          NaN          NaN  \n",
       "4       1353.0          NaN          NaN  \n",
       "5       1429.0          NaN          NaN  \n",
       "6        613.0          NaN          NaN  \n",
       "7        933.0          NaN          NaN  \n",
       "8        907.0          NaN          NaN  \n",
       "9        772.0          NaN          NaN  "
      ]
     },
     "execution_count": 3,
     "metadata": {},
     "output_type": "execute_result"
    }
   ],
   "source": [
    "# Reading the first 10 rows of the dataset\n",
    "\n",
    "daily_df.head(10)"
   ]
  },
  {
   "cell_type": "code",
   "execution_count": 4,
   "metadata": {
    "colab": {
     "base_uri": "https://localhost:8080/"
    },
    "id": "OCafjBBcYx1f",
    "outputId": "10b8a801-b114-48c7-b074-8cc9af35e4e9"
   },
   "outputs": [
    {
     "data": {
      "text/plain": [
       "(12279, 16)"
      ]
     },
     "execution_count": 4,
     "metadata": {},
     "output_type": "execute_result"
    }
   ],
   "source": [
    "# Displaying the shape of the dataset using the .shape function in python\n",
    "\n",
    "daily_df.shape"
   ]
  },
  {
   "cell_type": "markdown",
   "metadata": {
    "id": "37MK5FEDYx1g"
   },
   "source": [
    "Here we find that our dataset has 16 columns and 12279 rows"
   ]
  },
  {
   "cell_type": "code",
   "execution_count": 5,
   "metadata": {
    "colab": {
     "base_uri": "https://localhost:8080/"
    },
    "id": "r-73u08lYx1g",
    "outputId": "7b3c0df6-089d-4e8b-edb9-bc0565d6d162"
   },
   "outputs": [
    {
     "data": {
      "text/plain": [
       "Site Code                      object\n",
       "city                           object\n",
       "Vehicle_type                   object\n",
       "cluster                       float64\n",
       "Date                           object\n",
       "Delivery Agent ID              object\n",
       "Shift                          object\n",
       "Unsuccessful_Attempts         float64\n",
       "Process_Deviations            float64\n",
       "Delivered                     float64\n",
       "Customer_Rejects              float64\n",
       "Picked_up_Customer_Returns    float64\n",
       "Picked up_Seller              float64\n",
       "billing_amt                   float64\n",
       "Unnamed: 14                   float64\n",
       "Unnamed: 15                   float64\n",
       "dtype: object"
      ]
     },
     "execution_count": 5,
     "metadata": {},
     "output_type": "execute_result"
    }
   ],
   "source": [
    "# Checking the datatypes of all the columns of the dataframe.\n",
    "\n",
    "daily_df.dtypes"
   ]
  },
  {
   "cell_type": "markdown",
   "metadata": {
    "id": "6zcDH2NIYx1h"
   },
   "source": [
    "In our dataset we can find that the columns 14 and 15 are Unnnamed.\n",
    "\n",
    "The date column has an incorrect datatype that needs to be replaced and some other columns as well that has incorrect datatype and all needs to be replaced with the correct one."
   ]
  },
  {
   "cell_type": "markdown",
   "metadata": {
    "id": "d90reJNUYx1h"
   },
   "source": [
    "- Incorrect Data Types:\n",
    "\n",
    "    - Clean certain values\n",
    "    - Clean and convert an entire column"
   ]
  },
  {
   "cell_type": "code",
   "execution_count": 6,
   "metadata": {
    "id": "4HGoytTjYx1h"
   },
   "outputs": [],
   "source": [
    "daily_df['Date'] = pd.to_datetime(daily_df['Date'])"
   ]
  },
  {
   "cell_type": "code",
   "execution_count": 7,
   "metadata": {
    "colab": {
     "base_uri": "https://localhost:8080/"
    },
    "id": "1sE-r-rcYx1h",
    "outputId": "7285a420-573f-4d67-94c9-4929d5f7a319"
   },
   "outputs": [
    {
     "data": {
      "text/plain": [
       "dtype('O')"
      ]
     },
     "execution_count": 7,
     "metadata": {},
     "output_type": "execute_result"
    }
   ],
   "source": [
    "daily_df.Shift.dtype"
   ]
  },
  {
   "cell_type": "code",
   "execution_count": 8,
   "metadata": {
    "colab": {
     "base_uri": "https://localhost:8080/"
    },
    "id": "LF0YZr9xYx1i",
    "outputId": "9a67505c-ec3f-46ff-ff31-002b76f7e736",
    "scrolled": false
   },
   "outputs": [
    {
     "data": {
      "text/plain": [
       "0          A\n",
       "1          A\n",
       "2          C\n",
       "3          B\n",
       "4          B\n",
       "        ... \n",
       "12274    nan\n",
       "12275    nan\n",
       "12276    nan\n",
       "12277    nan\n",
       "12278    nan\n",
       "Name: Shift, Length: 12279, dtype: object"
      ]
     },
     "execution_count": 8,
     "metadata": {},
     "output_type": "execute_result"
    }
   ],
   "source": [
    "daily_df.Shift.astype(str)"
   ]
  },
  {
   "cell_type": "code",
   "execution_count": 9,
   "metadata": {
    "id": "hpHmm6v0Yx1i"
   },
   "outputs": [],
   "source": [
    "daily_df['Shift'] = daily_df['Shift'].astype(str)"
   ]
  },
  {
   "cell_type": "code",
   "execution_count": 10,
   "metadata": {
    "colab": {
     "base_uri": "https://localhost:8080/"
    },
    "id": "T2TvgrK7Yx1i",
    "outputId": "cfabe5a4-7b33-4677-c51a-f6686a275aa0",
    "scrolled": false
   },
   "outputs": [
    {
     "name": "stdout",
     "output_type": "stream",
     "text": [
      "<class 'pandas.core.frame.DataFrame'>\n",
      "RangeIndex: 12279 entries, 0 to 12278\n",
      "Data columns (total 16 columns):\n",
      " #   Column                      Non-Null Count  Dtype         \n",
      "---  ------                      --------------  -----         \n",
      " 0   Site Code                   11279 non-null  object        \n",
      " 1   city                        11279 non-null  object        \n",
      " 2   Vehicle_type                11279 non-null  object        \n",
      " 3   cluster                     11279 non-null  float64       \n",
      " 4   Date                        11279 non-null  datetime64[ns]\n",
      " 5   Delivery Agent ID           11279 non-null  object        \n",
      " 6   Shift                       12279 non-null  object        \n",
      " 7   Unsuccessful_Attempts       11279 non-null  float64       \n",
      " 8   Process_Deviations          11279 non-null  float64       \n",
      " 9   Delivered                   11279 non-null  float64       \n",
      " 10  Customer_Rejects            11279 non-null  float64       \n",
      " 11  Picked_up_Customer_Returns  11279 non-null  float64       \n",
      " 12  Picked up_Seller            11279 non-null  float64       \n",
      " 13  billing_amt                 11279 non-null  float64       \n",
      " 14  Unnamed: 14                 0 non-null      float64       \n",
      " 15  Unnamed: 15                 0 non-null      float64       \n",
      "dtypes: datetime64[ns](1), float64(10), object(5)\n",
      "memory usage: 1.5+ MB\n"
     ]
    }
   ],
   "source": [
    "# Recheck the datatype\n",
    "daily_df.info()"
   ]
  },
  {
   "cell_type": "code",
   "execution_count": 11,
   "metadata": {
    "id": "ngIwvhfuYx1j",
    "scrolled": false
   },
   "outputs": [],
   "source": [
    "# Drop unwanted columns\n",
    "\n",
    "daily_df.drop(['Unnamed: 14', 'Unnamed: 15'], axis=1, inplace=True)"
   ]
  },
  {
   "cell_type": "code",
   "execution_count": 12,
   "metadata": {
    "colab": {
     "base_uri": "https://localhost:8080/"
    },
    "id": "soUVQPFtYx1j",
    "outputId": "986422a9-2c7f-4b2f-a6eb-41e2ed022060"
   },
   "outputs": [
    {
     "data": {
      "text/plain": [
       "Site Code                     1000\n",
       "city                          1000\n",
       "Vehicle_type                  1000\n",
       "cluster                       1000\n",
       "Date                          1000\n",
       "Delivery Agent ID             1000\n",
       "Shift                            0\n",
       "Unsuccessful_Attempts         1000\n",
       "Process_Deviations            1000\n",
       "Delivered                     1000\n",
       "Customer_Rejects              1000\n",
       "Picked_up_Customer_Returns    1000\n",
       "Picked up_Seller              1000\n",
       "billing_amt                   1000\n",
       "dtype: int64"
      ]
     },
     "execution_count": 12,
     "metadata": {},
     "output_type": "execute_result"
    }
   ],
   "source": [
    "# Check the count of all the null values in the column\n",
    "\n",
    "daily_df.isnull().sum()"
   ]
  },
  {
   "cell_type": "markdown",
   "metadata": {
    "id": "HeBubCw-Yx1j"
   },
   "source": [
    "##### Missing values\n",
    "\n",
    "\n",
    "- For Missing Values: Some common techniques to treat this issue are\n",
    "\n",
    "     - Dropping the rows containing the missing values\n",
    "     - Imputing the missing values\n",
    "     - Keep the missing values if they don't affect the analysis"
   ]
  },
  {
   "cell_type": "code",
   "execution_count": 13,
   "metadata": {
    "colab": {
     "base_uri": "https://localhost:8080/",
     "height": 599
    },
    "id": "ySrdm3fwYx1k",
    "outputId": "2cdffb0b-8134-4ae7-b870-50faa6bbbf5c"
   },
   "outputs": [
    {
     "data": {
      "text/html": [
       "<div>\n",
       "<style scoped>\n",
       "    .dataframe tbody tr th:only-of-type {\n",
       "        vertical-align: middle;\n",
       "    }\n",
       "\n",
       "    .dataframe tbody tr th {\n",
       "        vertical-align: top;\n",
       "    }\n",
       "\n",
       "    .dataframe thead th {\n",
       "        text-align: right;\n",
       "    }\n",
       "</style>\n",
       "<table border=\"1\" class=\"dataframe\">\n",
       "  <thead>\n",
       "    <tr style=\"text-align: right;\">\n",
       "      <th></th>\n",
       "      <th>Site Code</th>\n",
       "      <th>city</th>\n",
       "      <th>Vehicle_type</th>\n",
       "      <th>cluster</th>\n",
       "      <th>Date</th>\n",
       "      <th>Delivery Agent ID</th>\n",
       "      <th>Shift</th>\n",
       "      <th>Unsuccessful_Attempts</th>\n",
       "      <th>Process_Deviations</th>\n",
       "      <th>Delivered</th>\n",
       "      <th>Customer_Rejects</th>\n",
       "      <th>Picked_up_Customer_Returns</th>\n",
       "      <th>Picked up_Seller</th>\n",
       "      <th>billing_amt</th>\n",
       "    </tr>\n",
       "  </thead>\n",
       "  <tbody>\n",
       "    <tr>\n",
       "      <th>count</th>\n",
       "      <td>11279</td>\n",
       "      <td>11279</td>\n",
       "      <td>11279</td>\n",
       "      <td>11279.000000</td>\n",
       "      <td>11279</td>\n",
       "      <td>11279</td>\n",
       "      <td>12279</td>\n",
       "      <td>11279.000000</td>\n",
       "      <td>11279.000000</td>\n",
       "      <td>11279.000000</td>\n",
       "      <td>11279.000000</td>\n",
       "      <td>11279.000000</td>\n",
       "      <td>11279.0</td>\n",
       "      <td>11279.000000</td>\n",
       "    </tr>\n",
       "    <tr>\n",
       "      <th>unique</th>\n",
       "      <td>30</td>\n",
       "      <td>8</td>\n",
       "      <td>3</td>\n",
       "      <td>NaN</td>\n",
       "      <td>30</td>\n",
       "      <td>696</td>\n",
       "      <td>4</td>\n",
       "      <td>NaN</td>\n",
       "      <td>NaN</td>\n",
       "      <td>NaN</td>\n",
       "      <td>NaN</td>\n",
       "      <td>NaN</td>\n",
       "      <td>NaN</td>\n",
       "      <td>NaN</td>\n",
       "    </tr>\n",
       "    <tr>\n",
       "      <th>top</th>\n",
       "      <td>Site_22</td>\n",
       "      <td>BANGALORE</td>\n",
       "      <td>Bike</td>\n",
       "      <td>NaN</td>\n",
       "      <td>2023-06-06 00:00:00</td>\n",
       "      <td>DA_34</td>\n",
       "      <td>A</td>\n",
       "      <td>NaN</td>\n",
       "      <td>NaN</td>\n",
       "      <td>NaN</td>\n",
       "      <td>NaN</td>\n",
       "      <td>NaN</td>\n",
       "      <td>NaN</td>\n",
       "      <td>NaN</td>\n",
       "    </tr>\n",
       "    <tr>\n",
       "      <th>freq</th>\n",
       "      <td>1143</td>\n",
       "      <td>4928</td>\n",
       "      <td>6007</td>\n",
       "      <td>NaN</td>\n",
       "      <td>402</td>\n",
       "      <td>28</td>\n",
       "      <td>5129</td>\n",
       "      <td>NaN</td>\n",
       "      <td>NaN</td>\n",
       "      <td>NaN</td>\n",
       "      <td>NaN</td>\n",
       "      <td>NaN</td>\n",
       "      <td>NaN</td>\n",
       "      <td>NaN</td>\n",
       "    </tr>\n",
       "    <tr>\n",
       "      <th>first</th>\n",
       "      <td>NaN</td>\n",
       "      <td>NaN</td>\n",
       "      <td>NaN</td>\n",
       "      <td>NaN</td>\n",
       "      <td>2023-06-01 00:00:00</td>\n",
       "      <td>NaN</td>\n",
       "      <td>NaN</td>\n",
       "      <td>NaN</td>\n",
       "      <td>NaN</td>\n",
       "      <td>NaN</td>\n",
       "      <td>NaN</td>\n",
       "      <td>NaN</td>\n",
       "      <td>NaN</td>\n",
       "      <td>NaN</td>\n",
       "    </tr>\n",
       "    <tr>\n",
       "      <th>last</th>\n",
       "      <td>NaN</td>\n",
       "      <td>NaN</td>\n",
       "      <td>NaN</td>\n",
       "      <td>NaN</td>\n",
       "      <td>2023-06-30 00:00:00</td>\n",
       "      <td>NaN</td>\n",
       "      <td>NaN</td>\n",
       "      <td>NaN</td>\n",
       "      <td>NaN</td>\n",
       "      <td>NaN</td>\n",
       "      <td>NaN</td>\n",
       "      <td>NaN</td>\n",
       "      <td>NaN</td>\n",
       "      <td>NaN</td>\n",
       "    </tr>\n",
       "    <tr>\n",
       "      <th>mean</th>\n",
       "      <td>NaN</td>\n",
       "      <td>NaN</td>\n",
       "      <td>NaN</td>\n",
       "      <td>4.038213</td>\n",
       "      <td>NaN</td>\n",
       "      <td>NaN</td>\n",
       "      <td>NaN</td>\n",
       "      <td>2.593404</td>\n",
       "      <td>1.583474</td>\n",
       "      <td>34.036971</td>\n",
       "      <td>1.378757</td>\n",
       "      <td>10.170228</td>\n",
       "      <td>0.0</td>\n",
       "      <td>1257.684103</td>\n",
       "    </tr>\n",
       "    <tr>\n",
       "      <th>std</th>\n",
       "      <td>NaN</td>\n",
       "      <td>NaN</td>\n",
       "      <td>NaN</td>\n",
       "      <td>0.948979</td>\n",
       "      <td>NaN</td>\n",
       "      <td>NaN</td>\n",
       "      <td>NaN</td>\n",
       "      <td>2.879863</td>\n",
       "      <td>6.854252</td>\n",
       "      <td>31.495358</td>\n",
       "      <td>2.937879</td>\n",
       "      <td>15.151979</td>\n",
       "      <td>0.0</td>\n",
       "      <td>612.346733</td>\n",
       "    </tr>\n",
       "    <tr>\n",
       "      <th>min</th>\n",
       "      <td>NaN</td>\n",
       "      <td>NaN</td>\n",
       "      <td>NaN</td>\n",
       "      <td>1.000000</td>\n",
       "      <td>NaN</td>\n",
       "      <td>NaN</td>\n",
       "      <td>NaN</td>\n",
       "      <td>0.000000</td>\n",
       "      <td>0.000000</td>\n",
       "      <td>0.000000</td>\n",
       "      <td>0.000000</td>\n",
       "      <td>0.000000</td>\n",
       "      <td>0.0</td>\n",
       "      <td>126.000000</td>\n",
       "    </tr>\n",
       "    <tr>\n",
       "      <th>25%</th>\n",
       "      <td>NaN</td>\n",
       "      <td>NaN</td>\n",
       "      <td>NaN</td>\n",
       "      <td>4.000000</td>\n",
       "      <td>NaN</td>\n",
       "      <td>NaN</td>\n",
       "      <td>NaN</td>\n",
       "      <td>0.000000</td>\n",
       "      <td>0.000000</td>\n",
       "      <td>16.000000</td>\n",
       "      <td>0.000000</td>\n",
       "      <td>0.000000</td>\n",
       "      <td>0.0</td>\n",
       "      <td>622.000000</td>\n",
       "    </tr>\n",
       "    <tr>\n",
       "      <th>50%</th>\n",
       "      <td>NaN</td>\n",
       "      <td>NaN</td>\n",
       "      <td>NaN</td>\n",
       "      <td>4.000000</td>\n",
       "      <td>NaN</td>\n",
       "      <td>NaN</td>\n",
       "      <td>NaN</td>\n",
       "      <td>2.000000</td>\n",
       "      <td>0.000000</td>\n",
       "      <td>25.000000</td>\n",
       "      <td>1.000000</td>\n",
       "      <td>4.000000</td>\n",
       "      <td>0.0</td>\n",
       "      <td>1005.000000</td>\n",
       "    </tr>\n",
       "    <tr>\n",
       "      <th>75%</th>\n",
       "      <td>NaN</td>\n",
       "      <td>NaN</td>\n",
       "      <td>NaN</td>\n",
       "      <td>4.000000</td>\n",
       "      <td>NaN</td>\n",
       "      <td>NaN</td>\n",
       "      <td>NaN</td>\n",
       "      <td>4.000000</td>\n",
       "      <td>0.000000</td>\n",
       "      <td>46.000000</td>\n",
       "      <td>2.000000</td>\n",
       "      <td>11.000000</td>\n",
       "      <td>0.0</td>\n",
       "      <td>1671.000000</td>\n",
       "    </tr>\n",
       "    <tr>\n",
       "      <th>max</th>\n",
       "      <td>NaN</td>\n",
       "      <td>NaN</td>\n",
       "      <td>NaN</td>\n",
       "      <td>6.000000</td>\n",
       "      <td>NaN</td>\n",
       "      <td>NaN</td>\n",
       "      <td>NaN</td>\n",
       "      <td>54.000000</td>\n",
       "      <td>129.000000</td>\n",
       "      <td>290.000000</td>\n",
       "      <td>143.000000</td>\n",
       "      <td>117.000000</td>\n",
       "      <td>0.0</td>\n",
       "      <td>3666.000000</td>\n",
       "    </tr>\n",
       "  </tbody>\n",
       "</table>\n",
       "</div>"
      ],
      "text/plain": [
       "       Site Code       city Vehicle_type       cluster                 Date  \\\n",
       "count      11279      11279        11279  11279.000000                11279   \n",
       "unique        30          8            3           NaN                   30   \n",
       "top      Site_22  BANGALORE         Bike           NaN  2023-06-06 00:00:00   \n",
       "freq        1143       4928         6007           NaN                  402   \n",
       "first        NaN        NaN          NaN           NaN  2023-06-01 00:00:00   \n",
       "last         NaN        NaN          NaN           NaN  2023-06-30 00:00:00   \n",
       "mean         NaN        NaN          NaN      4.038213                  NaN   \n",
       "std          NaN        NaN          NaN      0.948979                  NaN   \n",
       "min          NaN        NaN          NaN      1.000000                  NaN   \n",
       "25%          NaN        NaN          NaN      4.000000                  NaN   \n",
       "50%          NaN        NaN          NaN      4.000000                  NaN   \n",
       "75%          NaN        NaN          NaN      4.000000                  NaN   \n",
       "max          NaN        NaN          NaN      6.000000                  NaN   \n",
       "\n",
       "       Delivery Agent ID  Shift  Unsuccessful_Attempts  Process_Deviations  \\\n",
       "count              11279  12279           11279.000000        11279.000000   \n",
       "unique               696      4                    NaN                 NaN   \n",
       "top                DA_34      A                    NaN                 NaN   \n",
       "freq                  28   5129                    NaN                 NaN   \n",
       "first                NaN    NaN                    NaN                 NaN   \n",
       "last                 NaN    NaN                    NaN                 NaN   \n",
       "mean                 NaN    NaN               2.593404            1.583474   \n",
       "std                  NaN    NaN               2.879863            6.854252   \n",
       "min                  NaN    NaN               0.000000            0.000000   \n",
       "25%                  NaN    NaN               0.000000            0.000000   \n",
       "50%                  NaN    NaN               2.000000            0.000000   \n",
       "75%                  NaN    NaN               4.000000            0.000000   \n",
       "max                  NaN    NaN              54.000000          129.000000   \n",
       "\n",
       "           Delivered  Customer_Rejects  Picked_up_Customer_Returns  \\\n",
       "count   11279.000000      11279.000000                11279.000000   \n",
       "unique           NaN               NaN                         NaN   \n",
       "top              NaN               NaN                         NaN   \n",
       "freq             NaN               NaN                         NaN   \n",
       "first            NaN               NaN                         NaN   \n",
       "last             NaN               NaN                         NaN   \n",
       "mean       34.036971          1.378757                   10.170228   \n",
       "std        31.495358          2.937879                   15.151979   \n",
       "min         0.000000          0.000000                    0.000000   \n",
       "25%        16.000000          0.000000                    0.000000   \n",
       "50%        25.000000          1.000000                    4.000000   \n",
       "75%        46.000000          2.000000                   11.000000   \n",
       "max       290.000000        143.000000                  117.000000   \n",
       "\n",
       "        Picked up_Seller   billing_amt  \n",
       "count            11279.0  11279.000000  \n",
       "unique               NaN           NaN  \n",
       "top                  NaN           NaN  \n",
       "freq                 NaN           NaN  \n",
       "first                NaN           NaN  \n",
       "last                 NaN           NaN  \n",
       "mean                 0.0   1257.684103  \n",
       "std                  0.0    612.346733  \n",
       "min                  0.0    126.000000  \n",
       "25%                  0.0    622.000000  \n",
       "50%                  0.0   1005.000000  \n",
       "75%                  0.0   1671.000000  \n",
       "max                  0.0   3666.000000  "
      ]
     },
     "execution_count": 13,
     "metadata": {},
     "output_type": "execute_result"
    }
   ],
   "source": [
    "# Use the describe function to understand the mean, median, mode and standard deviations.\n",
    "\n",
    "daily_df.describe(include='all')"
   ]
  },
  {
   "cell_type": "code",
   "execution_count": 14,
   "metadata": {
    "id": "OV4PC6wzYx1k"
   },
   "outputs": [],
   "source": [
    "# Replace NaN with appropriate strategy e.g., mean or median\n",
    "\n",
    "daily_df.fillna(value={'Site Code': 'Site_22', 'city': 'BANGALORE', 'Vehicle_type': 'Bike', 'cluster': 4,\n",
    "                       'Date': '2023-06-06 00:00:00', 'Delivery Agent ID': 'DA_34', 'Shift': 'A', 'Unsuccessful_Attempts': 0,\n",
    "                      'Process_Deviations': 0, 'Delivered': 0, 'Customer_Rejects':0, 'Picked_up_Customer_Returns':0,\n",
    "                      'Picked up_Seller': 0, 'billing_amt': 0},\n",
    "                inplace=True)"
   ]
  },
  {
   "cell_type": "markdown",
   "metadata": {
    "id": "ThJ-zamTuqO_"
   },
   "source": [
    "# Question 2"
   ]
  },
  {
   "cell_type": "markdown",
   "metadata": {
    "id": "23xnId7b8FKq"
   },
   "source": [
    "**Part-A**\n",
    "\n",
    "You will notice that there are delivery agents who have used different vehicle types in different shifts.\n",
    "\n",
    "Find what vehicle type was used for majority of the shifts, then overwrite all the other minority values with the majority values.\n",
    "\n",
    "For example - if DA_1 used a bike in 20 shifts and used a van in 2 shifts, you need to make sure that the \"Vehicle Type\" for all 22 shifts is set to \"Bike\" as that was used for majority of the shifts."
   ]
  },
  {
   "cell_type": "code",
   "execution_count": 15,
   "metadata": {
    "colab": {
     "base_uri": "https://localhost:8080/"
    },
    "id": "OS_BLKfKYx1l",
    "outputId": "176f0660-de40-4747-da79-7df8bbec37c5"
   },
   "outputs": [
    {
     "data": {
      "text/plain": [
       "Bike        7007\n",
       "Van DCD     3670\n",
       "Van D+DA    1602\n",
       "Name: Vehicle_type, dtype: int64"
      ]
     },
     "execution_count": 15,
     "metadata": {},
     "output_type": "execute_result"
    }
   ],
   "source": [
    "# Get the unique values\n",
    "\n",
    "daily_df['Vehicle_type'].value_counts()"
   ]
  },
  {
   "cell_type": "markdown",
   "metadata": {
    "id": "vIyq2E4SYx1l"
   },
   "source": [
    "Here, we can see that the Vehicle_type 'Bike' has been used most for the deliveries by most of the delivery agents."
   ]
  },
  {
   "cell_type": "code",
   "execution_count": 16,
   "metadata": {
    "id": "pxzDCqzX7Zax"
   },
   "outputs": [],
   "source": [
    "# Imputed the missing values of the 'Vehicle_type' column with the majority values\n",
    "\n",
    "daily_df['Vehicle_type'] = daily_df['Vehicle_type'].fillna(daily_df['Vehicle_type'].mode()[0])"
   ]
  },
  {
   "cell_type": "code",
   "execution_count": 17,
   "metadata": {
    "colab": {
     "base_uri": "https://localhost:8080/"
    },
    "id": "1f3hXm34Yx1l",
    "outputId": "6304bbcf-2f9b-42b3-e7f9-5f066d341610"
   },
   "outputs": [
    {
     "data": {
      "text/plain": [
       "0"
      ]
     },
     "execution_count": 17,
     "metadata": {},
     "output_type": "execute_result"
    }
   ],
   "source": [
    "daily_df['Vehicle_type'].isnull().sum()"
   ]
  },
  {
   "cell_type": "code",
   "execution_count": 18,
   "metadata": {
    "colab": {
     "base_uri": "https://localhost:8080/"
    },
    "id": "IsaENRqOYx1m",
    "outputId": "5823c9e2-c238-4bd9-c1d6-c6f1b319d35a"
   },
   "outputs": [
    {
     "data": {
      "text/plain": [
       "Bike        7007\n",
       "Van DCD     3670\n",
       "Van D+DA    1602\n",
       "Name: Vehicle_type, dtype: int64"
      ]
     },
     "execution_count": 18,
     "metadata": {},
     "output_type": "execute_result"
    }
   ],
   "source": [
    "# Rechecking the count of values again\n",
    "\n",
    "daily_df['Vehicle_type'].value_counts()"
   ]
  },
  {
   "cell_type": "markdown",
   "metadata": {
    "id": "juyTd7pBYx1m"
   },
   "source": [
    "Hence, checking on the null values again, we can see that there are no null values in the 'Vehicle_type' column.\n"
   ]
  },
  {
   "cell_type": "markdown",
   "metadata": {
    "id": "yQ4qz_Wm6m3F"
   },
   "source": [
    "**Part-B:**\n",
    "\n",
    "Total assigned packages can be calculated using the following formula:\n",
    "\n",
    "Total Assigned = Unsuccessful_Attempts + Delivered + Customer_Rejects + Picked_up_Customer_Returns + Picked up_Seller\n",
    "\n",
    "Use this formula and add a new column in the dataframe called \"Total Assigned\""
   ]
  },
  {
   "cell_type": "code",
   "execution_count": 19,
   "metadata": {
    "id": "XJ_Zu817Yx1m"
   },
   "outputs": [],
   "source": [
    "# To find the total assigned packages, we use the formula above:\n",
    "\n",
    "daily_df['Total Assigned'] = daily_df['Unsuccessful_Attempts'] + daily_df['Delivered'] + daily_df['Customer_Rejects'] + daily_df['Picked_up_Customer_Returns'] + daily_df['Picked up_Seller']"
   ]
  },
  {
   "cell_type": "code",
   "execution_count": 20,
   "metadata": {
    "colab": {
     "base_uri": "https://localhost:8080/",
     "height": 330
    },
    "id": "e1JyCSB_7LsS",
    "outputId": "071aca1f-5764-4399-e1c7-2485ce6538a8"
   },
   "outputs": [
    {
     "data": {
      "text/html": [
       "<div>\n",
       "<style scoped>\n",
       "    .dataframe tbody tr th:only-of-type {\n",
       "        vertical-align: middle;\n",
       "    }\n",
       "\n",
       "    .dataframe tbody tr th {\n",
       "        vertical-align: top;\n",
       "    }\n",
       "\n",
       "    .dataframe thead th {\n",
       "        text-align: right;\n",
       "    }\n",
       "</style>\n",
       "<table border=\"1\" class=\"dataframe\">\n",
       "  <thead>\n",
       "    <tr style=\"text-align: right;\">\n",
       "      <th></th>\n",
       "      <th>Site Code</th>\n",
       "      <th>city</th>\n",
       "      <th>Vehicle_type</th>\n",
       "      <th>cluster</th>\n",
       "      <th>Date</th>\n",
       "      <th>Delivery Agent ID</th>\n",
       "      <th>Shift</th>\n",
       "      <th>Unsuccessful_Attempts</th>\n",
       "      <th>Process_Deviations</th>\n",
       "      <th>Delivered</th>\n",
       "      <th>Customer_Rejects</th>\n",
       "      <th>Picked_up_Customer_Returns</th>\n",
       "      <th>Picked up_Seller</th>\n",
       "      <th>billing_amt</th>\n",
       "      <th>Total Assigned</th>\n",
       "    </tr>\n",
       "  </thead>\n",
       "  <tbody>\n",
       "    <tr>\n",
       "      <th>0</th>\n",
       "      <td>Site_22</td>\n",
       "      <td>HYDERABAD</td>\n",
       "      <td>Bike</td>\n",
       "      <td>4.0</td>\n",
       "      <td>2023-06-27</td>\n",
       "      <td>DA_280</td>\n",
       "      <td>A</td>\n",
       "      <td>0.0</td>\n",
       "      <td>0.0</td>\n",
       "      <td>3.0</td>\n",
       "      <td>1.0</td>\n",
       "      <td>26.0</td>\n",
       "      <td>0.0</td>\n",
       "      <td>955.0</td>\n",
       "      <td>30.0</td>\n",
       "    </tr>\n",
       "    <tr>\n",
       "      <th>1</th>\n",
       "      <td>Site_10</td>\n",
       "      <td>BANGALORE</td>\n",
       "      <td>Van DCD</td>\n",
       "      <td>4.0</td>\n",
       "      <td>2023-06-08</td>\n",
       "      <td>DA_273</td>\n",
       "      <td>A</td>\n",
       "      <td>0.0</td>\n",
       "      <td>9.0</td>\n",
       "      <td>60.0</td>\n",
       "      <td>1.0</td>\n",
       "      <td>20.0</td>\n",
       "      <td>0.0</td>\n",
       "      <td>2075.0</td>\n",
       "      <td>81.0</td>\n",
       "    </tr>\n",
       "    <tr>\n",
       "      <th>2</th>\n",
       "      <td>Site_3</td>\n",
       "      <td>BANGALORE</td>\n",
       "      <td>Bike</td>\n",
       "      <td>4.0</td>\n",
       "      <td>2023-06-25</td>\n",
       "      <td>DA_370</td>\n",
       "      <td>C</td>\n",
       "      <td>2.0</td>\n",
       "      <td>0.0</td>\n",
       "      <td>15.0</td>\n",
       "      <td>0.0</td>\n",
       "      <td>2.0</td>\n",
       "      <td>0.0</td>\n",
       "      <td>571.0</td>\n",
       "      <td>19.0</td>\n",
       "    </tr>\n",
       "    <tr>\n",
       "      <th>3</th>\n",
       "      <td>Site_10</td>\n",
       "      <td>BANGALORE</td>\n",
       "      <td>Van DCD</td>\n",
       "      <td>4.0</td>\n",
       "      <td>2023-06-22</td>\n",
       "      <td>DA_118</td>\n",
       "      <td>B</td>\n",
       "      <td>1.0</td>\n",
       "      <td>0.0</td>\n",
       "      <td>15.0</td>\n",
       "      <td>0.0</td>\n",
       "      <td>0.0</td>\n",
       "      <td>0.0</td>\n",
       "      <td>1275.0</td>\n",
       "      <td>16.0</td>\n",
       "    </tr>\n",
       "    <tr>\n",
       "      <th>4</th>\n",
       "      <td>Site_4</td>\n",
       "      <td>BANGALORE</td>\n",
       "      <td>Van DCD</td>\n",
       "      <td>4.0</td>\n",
       "      <td>2023-06-11</td>\n",
       "      <td>DA_136</td>\n",
       "      <td>B</td>\n",
       "      <td>5.0</td>\n",
       "      <td>0.0</td>\n",
       "      <td>40.0</td>\n",
       "      <td>1.0</td>\n",
       "      <td>0.0</td>\n",
       "      <td>0.0</td>\n",
       "      <td>1353.0</td>\n",
       "      <td>46.0</td>\n",
       "    </tr>\n",
       "  </tbody>\n",
       "</table>\n",
       "</div>"
      ],
      "text/plain": [
       "  Site Code       city Vehicle_type  cluster       Date Delivery Agent ID  \\\n",
       "0   Site_22  HYDERABAD         Bike      4.0 2023-06-27            DA_280   \n",
       "1   Site_10  BANGALORE      Van DCD      4.0 2023-06-08            DA_273   \n",
       "2    Site_3  BANGALORE         Bike      4.0 2023-06-25            DA_370   \n",
       "3   Site_10  BANGALORE      Van DCD      4.0 2023-06-22            DA_118   \n",
       "4    Site_4  BANGALORE      Van DCD      4.0 2023-06-11            DA_136   \n",
       "\n",
       "  Shift  Unsuccessful_Attempts  Process_Deviations  Delivered  \\\n",
       "0     A                    0.0                 0.0        3.0   \n",
       "1     A                    0.0                 9.0       60.0   \n",
       "2     C                    2.0                 0.0       15.0   \n",
       "3     B                    1.0                 0.0       15.0   \n",
       "4     B                    5.0                 0.0       40.0   \n",
       "\n",
       "   Customer_Rejects  Picked_up_Customer_Returns  Picked up_Seller  \\\n",
       "0               1.0                        26.0               0.0   \n",
       "1               1.0                        20.0               0.0   \n",
       "2               0.0                         2.0               0.0   \n",
       "3               0.0                         0.0               0.0   \n",
       "4               1.0                         0.0               0.0   \n",
       "\n",
       "   billing_amt  Total Assigned  \n",
       "0        955.0            30.0  \n",
       "1       2075.0            81.0  \n",
       "2        571.0            19.0  \n",
       "3       1275.0            16.0  \n",
       "4       1353.0            46.0  "
      ]
     },
     "execution_count": 20,
     "metadata": {},
     "output_type": "execute_result"
    }
   ],
   "source": [
    "daily_df.head()"
   ]
  },
  {
   "cell_type": "markdown",
   "metadata": {
    "id": "RPgRhsgdusG4"
   },
   "source": [
    "**Part-C:**\n",
    "\n",
    "\"Productivity\" is a metric that aims at measuring how much work a delivery agent is doing during his shift. This can later be compared with the rest of the workforce to identify delivery agents who are both - outperforming as well as under performing.  \n",
    "\n",
    "It can be calculated using the following formula:\n",
    "\n",
    "Productivity = Delivered + Customer_Rejects + Picked_up_Customer_Returns + Picked up_Seller.\n",
    "\n",
    "Calculate \"Productivity\" and show it in a new column in the daily_df.\n"
   ]
  },
  {
   "cell_type": "code",
   "execution_count": 21,
   "metadata": {
    "id": "Sp1kdKxp4L2N"
   },
   "outputs": [],
   "source": [
    "# To find the productivity status of the delivery agents, we use the formula stated above:\n",
    "\n",
    "daily_df['Productivity'] = daily_df['Delivered'] + daily_df['Customer_Rejects'] + daily_df['Picked_up_Customer_Returns'] + daily_df['Picked up_Seller']"
   ]
  },
  {
   "cell_type": "code",
   "execution_count": 22,
   "metadata": {
    "colab": {
     "base_uri": "https://localhost:8080/",
     "height": 635
    },
    "id": "IrT_X1fGYx1n",
    "outputId": "e222e6cd-cd68-4260-c0a5-ff5fa822ad89"
   },
   "outputs": [
    {
     "data": {
      "text/html": [
       "<div>\n",
       "<style scoped>\n",
       "    .dataframe tbody tr th:only-of-type {\n",
       "        vertical-align: middle;\n",
       "    }\n",
       "\n",
       "    .dataframe tbody tr th {\n",
       "        vertical-align: top;\n",
       "    }\n",
       "\n",
       "    .dataframe thead th {\n",
       "        text-align: right;\n",
       "    }\n",
       "</style>\n",
       "<table border=\"1\" class=\"dataframe\">\n",
       "  <thead>\n",
       "    <tr style=\"text-align: right;\">\n",
       "      <th></th>\n",
       "      <th>Site Code</th>\n",
       "      <th>city</th>\n",
       "      <th>Vehicle_type</th>\n",
       "      <th>cluster</th>\n",
       "      <th>Date</th>\n",
       "      <th>Delivery Agent ID</th>\n",
       "      <th>Shift</th>\n",
       "      <th>Unsuccessful_Attempts</th>\n",
       "      <th>Process_Deviations</th>\n",
       "      <th>Delivered</th>\n",
       "      <th>Customer_Rejects</th>\n",
       "      <th>Picked_up_Customer_Returns</th>\n",
       "      <th>Picked up_Seller</th>\n",
       "      <th>billing_amt</th>\n",
       "      <th>Total Assigned</th>\n",
       "      <th>Productivity</th>\n",
       "    </tr>\n",
       "  </thead>\n",
       "  <tbody>\n",
       "    <tr>\n",
       "      <th>0</th>\n",
       "      <td>Site_22</td>\n",
       "      <td>HYDERABAD</td>\n",
       "      <td>Bike</td>\n",
       "      <td>4.0</td>\n",
       "      <td>2023-06-27</td>\n",
       "      <td>DA_280</td>\n",
       "      <td>A</td>\n",
       "      <td>0.0</td>\n",
       "      <td>0.0</td>\n",
       "      <td>3.0</td>\n",
       "      <td>1.0</td>\n",
       "      <td>26.0</td>\n",
       "      <td>0.0</td>\n",
       "      <td>955.0</td>\n",
       "      <td>30.0</td>\n",
       "      <td>30.0</td>\n",
       "    </tr>\n",
       "    <tr>\n",
       "      <th>1</th>\n",
       "      <td>Site_10</td>\n",
       "      <td>BANGALORE</td>\n",
       "      <td>Van DCD</td>\n",
       "      <td>4.0</td>\n",
       "      <td>2023-06-08</td>\n",
       "      <td>DA_273</td>\n",
       "      <td>A</td>\n",
       "      <td>0.0</td>\n",
       "      <td>9.0</td>\n",
       "      <td>60.0</td>\n",
       "      <td>1.0</td>\n",
       "      <td>20.0</td>\n",
       "      <td>0.0</td>\n",
       "      <td>2075.0</td>\n",
       "      <td>81.0</td>\n",
       "      <td>81.0</td>\n",
       "    </tr>\n",
       "    <tr>\n",
       "      <th>2</th>\n",
       "      <td>Site_3</td>\n",
       "      <td>BANGALORE</td>\n",
       "      <td>Bike</td>\n",
       "      <td>4.0</td>\n",
       "      <td>2023-06-25</td>\n",
       "      <td>DA_370</td>\n",
       "      <td>C</td>\n",
       "      <td>2.0</td>\n",
       "      <td>0.0</td>\n",
       "      <td>15.0</td>\n",
       "      <td>0.0</td>\n",
       "      <td>2.0</td>\n",
       "      <td>0.0</td>\n",
       "      <td>571.0</td>\n",
       "      <td>19.0</td>\n",
       "      <td>17.0</td>\n",
       "    </tr>\n",
       "    <tr>\n",
       "      <th>3</th>\n",
       "      <td>Site_10</td>\n",
       "      <td>BANGALORE</td>\n",
       "      <td>Van DCD</td>\n",
       "      <td>4.0</td>\n",
       "      <td>2023-06-22</td>\n",
       "      <td>DA_118</td>\n",
       "      <td>B</td>\n",
       "      <td>1.0</td>\n",
       "      <td>0.0</td>\n",
       "      <td>15.0</td>\n",
       "      <td>0.0</td>\n",
       "      <td>0.0</td>\n",
       "      <td>0.0</td>\n",
       "      <td>1275.0</td>\n",
       "      <td>16.0</td>\n",
       "      <td>15.0</td>\n",
       "    </tr>\n",
       "    <tr>\n",
       "      <th>4</th>\n",
       "      <td>Site_4</td>\n",
       "      <td>BANGALORE</td>\n",
       "      <td>Van DCD</td>\n",
       "      <td>4.0</td>\n",
       "      <td>2023-06-11</td>\n",
       "      <td>DA_136</td>\n",
       "      <td>B</td>\n",
       "      <td>5.0</td>\n",
       "      <td>0.0</td>\n",
       "      <td>40.0</td>\n",
       "      <td>1.0</td>\n",
       "      <td>0.0</td>\n",
       "      <td>0.0</td>\n",
       "      <td>1353.0</td>\n",
       "      <td>46.0</td>\n",
       "      <td>41.0</td>\n",
       "    </tr>\n",
       "    <tr>\n",
       "      <th>...</th>\n",
       "      <td>...</td>\n",
       "      <td>...</td>\n",
       "      <td>...</td>\n",
       "      <td>...</td>\n",
       "      <td>...</td>\n",
       "      <td>...</td>\n",
       "      <td>...</td>\n",
       "      <td>...</td>\n",
       "      <td>...</td>\n",
       "      <td>...</td>\n",
       "      <td>...</td>\n",
       "      <td>...</td>\n",
       "      <td>...</td>\n",
       "      <td>...</td>\n",
       "      <td>...</td>\n",
       "      <td>...</td>\n",
       "    </tr>\n",
       "    <tr>\n",
       "      <th>12274</th>\n",
       "      <td>Site_22</td>\n",
       "      <td>BANGALORE</td>\n",
       "      <td>Bike</td>\n",
       "      <td>4.0</td>\n",
       "      <td>2023-06-06</td>\n",
       "      <td>DA_34</td>\n",
       "      <td>nan</td>\n",
       "      <td>0.0</td>\n",
       "      <td>0.0</td>\n",
       "      <td>0.0</td>\n",
       "      <td>0.0</td>\n",
       "      <td>0.0</td>\n",
       "      <td>0.0</td>\n",
       "      <td>0.0</td>\n",
       "      <td>0.0</td>\n",
       "      <td>0.0</td>\n",
       "    </tr>\n",
       "    <tr>\n",
       "      <th>12275</th>\n",
       "      <td>Site_22</td>\n",
       "      <td>BANGALORE</td>\n",
       "      <td>Bike</td>\n",
       "      <td>4.0</td>\n",
       "      <td>2023-06-06</td>\n",
       "      <td>DA_34</td>\n",
       "      <td>nan</td>\n",
       "      <td>0.0</td>\n",
       "      <td>0.0</td>\n",
       "      <td>0.0</td>\n",
       "      <td>0.0</td>\n",
       "      <td>0.0</td>\n",
       "      <td>0.0</td>\n",
       "      <td>0.0</td>\n",
       "      <td>0.0</td>\n",
       "      <td>0.0</td>\n",
       "    </tr>\n",
       "    <tr>\n",
       "      <th>12276</th>\n",
       "      <td>Site_22</td>\n",
       "      <td>BANGALORE</td>\n",
       "      <td>Bike</td>\n",
       "      <td>4.0</td>\n",
       "      <td>2023-06-06</td>\n",
       "      <td>DA_34</td>\n",
       "      <td>nan</td>\n",
       "      <td>0.0</td>\n",
       "      <td>0.0</td>\n",
       "      <td>0.0</td>\n",
       "      <td>0.0</td>\n",
       "      <td>0.0</td>\n",
       "      <td>0.0</td>\n",
       "      <td>0.0</td>\n",
       "      <td>0.0</td>\n",
       "      <td>0.0</td>\n",
       "    </tr>\n",
       "    <tr>\n",
       "      <th>12277</th>\n",
       "      <td>Site_22</td>\n",
       "      <td>BANGALORE</td>\n",
       "      <td>Bike</td>\n",
       "      <td>4.0</td>\n",
       "      <td>2023-06-06</td>\n",
       "      <td>DA_34</td>\n",
       "      <td>nan</td>\n",
       "      <td>0.0</td>\n",
       "      <td>0.0</td>\n",
       "      <td>0.0</td>\n",
       "      <td>0.0</td>\n",
       "      <td>0.0</td>\n",
       "      <td>0.0</td>\n",
       "      <td>0.0</td>\n",
       "      <td>0.0</td>\n",
       "      <td>0.0</td>\n",
       "    </tr>\n",
       "    <tr>\n",
       "      <th>12278</th>\n",
       "      <td>Site_22</td>\n",
       "      <td>BANGALORE</td>\n",
       "      <td>Bike</td>\n",
       "      <td>4.0</td>\n",
       "      <td>2023-06-06</td>\n",
       "      <td>DA_34</td>\n",
       "      <td>nan</td>\n",
       "      <td>0.0</td>\n",
       "      <td>0.0</td>\n",
       "      <td>0.0</td>\n",
       "      <td>0.0</td>\n",
       "      <td>0.0</td>\n",
       "      <td>0.0</td>\n",
       "      <td>0.0</td>\n",
       "      <td>0.0</td>\n",
       "      <td>0.0</td>\n",
       "    </tr>\n",
       "  </tbody>\n",
       "</table>\n",
       "<p>12279 rows × 16 columns</p>\n",
       "</div>"
      ],
      "text/plain": [
       "      Site Code       city Vehicle_type  cluster       Date Delivery Agent ID  \\\n",
       "0       Site_22  HYDERABAD         Bike      4.0 2023-06-27            DA_280   \n",
       "1       Site_10  BANGALORE      Van DCD      4.0 2023-06-08            DA_273   \n",
       "2        Site_3  BANGALORE         Bike      4.0 2023-06-25            DA_370   \n",
       "3       Site_10  BANGALORE      Van DCD      4.0 2023-06-22            DA_118   \n",
       "4        Site_4  BANGALORE      Van DCD      4.0 2023-06-11            DA_136   \n",
       "...         ...        ...          ...      ...        ...               ...   \n",
       "12274   Site_22  BANGALORE         Bike      4.0 2023-06-06             DA_34   \n",
       "12275   Site_22  BANGALORE         Bike      4.0 2023-06-06             DA_34   \n",
       "12276   Site_22  BANGALORE         Bike      4.0 2023-06-06             DA_34   \n",
       "12277   Site_22  BANGALORE         Bike      4.0 2023-06-06             DA_34   \n",
       "12278   Site_22  BANGALORE         Bike      4.0 2023-06-06             DA_34   \n",
       "\n",
       "      Shift  Unsuccessful_Attempts  Process_Deviations  Delivered  \\\n",
       "0         A                    0.0                 0.0        3.0   \n",
       "1         A                    0.0                 9.0       60.0   \n",
       "2         C                    2.0                 0.0       15.0   \n",
       "3         B                    1.0                 0.0       15.0   \n",
       "4         B                    5.0                 0.0       40.0   \n",
       "...     ...                    ...                 ...        ...   \n",
       "12274   nan                    0.0                 0.0        0.0   \n",
       "12275   nan                    0.0                 0.0        0.0   \n",
       "12276   nan                    0.0                 0.0        0.0   \n",
       "12277   nan                    0.0                 0.0        0.0   \n",
       "12278   nan                    0.0                 0.0        0.0   \n",
       "\n",
       "       Customer_Rejects  Picked_up_Customer_Returns  Picked up_Seller  \\\n",
       "0                   1.0                        26.0               0.0   \n",
       "1                   1.0                        20.0               0.0   \n",
       "2                   0.0                         2.0               0.0   \n",
       "3                   0.0                         0.0               0.0   \n",
       "4                   1.0                         0.0               0.0   \n",
       "...                 ...                         ...               ...   \n",
       "12274               0.0                         0.0               0.0   \n",
       "12275               0.0                         0.0               0.0   \n",
       "12276               0.0                         0.0               0.0   \n",
       "12277               0.0                         0.0               0.0   \n",
       "12278               0.0                         0.0               0.0   \n",
       "\n",
       "       billing_amt  Total Assigned  Productivity  \n",
       "0            955.0            30.0          30.0  \n",
       "1           2075.0            81.0          81.0  \n",
       "2            571.0            19.0          17.0  \n",
       "3           1275.0            16.0          15.0  \n",
       "4           1353.0            46.0          41.0  \n",
       "...            ...             ...           ...  \n",
       "12274          0.0             0.0           0.0  \n",
       "12275          0.0             0.0           0.0  \n",
       "12276          0.0             0.0           0.0  \n",
       "12277          0.0             0.0           0.0  \n",
       "12278          0.0             0.0           0.0  \n",
       "\n",
       "[12279 rows x 16 columns]"
      ]
     },
     "execution_count": 22,
     "metadata": {},
     "output_type": "execute_result"
    }
   ],
   "source": [
    "daily_df"
   ]
  },
  {
   "cell_type": "markdown",
   "metadata": {
    "id": "7vMH2zkD_A2o"
   },
   "source": [
    "**Part-D:**\n",
    "\n",
    "Analyze the data and report the ranges of productivity that different vehicle types have in different types of shifts."
   ]
  },
  {
   "cell_type": "code",
   "execution_count": 23,
   "metadata": {
    "id": "eLKCPj3gYx1n"
   },
   "outputs": [],
   "source": [
    "# Analyzing the productivity_ranges for different vehicle types in different shifts\n",
    "\n",
    "productivity_ranges = daily_df.groupby(['Vehicle_type', 'Shift'])['Total Assigned'].describe()"
   ]
  },
  {
   "cell_type": "code",
   "execution_count": 24,
   "metadata": {
    "colab": {
     "base_uri": "https://localhost:8080/"
    },
    "id": "6yY20EILAn8F",
    "outputId": "3af681f7-4592-433f-a678-16665e936103"
   },
   "outputs": [
    {
     "name": "stdout",
     "output_type": "stream",
     "text": [
      "                     count       mean        std   min    25%   50%    75%  \\\n",
      "Vehicle_type Shift                                                           \n",
      "Bike         A      2313.0  45.126243  11.777551  20.0  37.00  44.0  52.00   \n",
      "             B       809.0  36.761434   9.410664  18.0  30.00  36.0  43.00   \n",
      "             C      2885.0  25.054766   6.697427   1.0  21.00  25.0  29.00   \n",
      "             nan    1000.0   0.000000   0.000000   0.0   0.00   0.0   0.00   \n",
      "Van D+DA     A       799.0  83.185232  14.754914  31.0  74.00  83.0  95.00   \n",
      "             B       802.0  40.779302  10.039618  16.0  34.00  40.0  47.00   \n",
      "             C         1.0  40.000000        NaN  40.0  40.00  40.0  40.00   \n",
      "Van DCD      A      2017.0  90.088250  43.460278   1.0  67.00  81.0  93.00   \n",
      "             B      1651.0  33.888552  14.973178   1.0  25.00  30.0  38.00   \n",
      "             C         2.0  73.500000  37.476659  47.0  60.25  73.5  86.75   \n",
      "\n",
      "                      max  \n",
      "Vehicle_type Shift         \n",
      "Bike         A      179.0  \n",
      "             B      149.0  \n",
      "             C       91.0  \n",
      "             nan      0.0  \n",
      "Van D+DA     A      120.0  \n",
      "             B       90.0  \n",
      "             C       40.0  \n",
      "Van DCD      A      340.0  \n",
      "             B      169.0  \n",
      "             C      100.0  \n"
     ]
    }
   ],
   "source": [
    "# Report of the above analysis\n",
    "\n",
    "print(productivity_ranges)"
   ]
  },
  {
   "cell_type": "markdown",
   "metadata": {
    "id": "uul8_UX9VepS"
   },
   "source": [
    "The script prints the summarized statistics, giving insights into the productivity ranges for different vehicle types in different shifts."
   ]
  },
  {
   "cell_type": "markdown",
   "metadata": {
    "id": "RDTQWnfyvFUC"
   },
   "source": [
    "***Explain briefly what you have observed about the productivity of different vehicles in different shifts***"
   ]
  },
  {
   "cell_type": "markdown",
   "metadata": {
    "id": "nexDiaNKVyHz"
   },
   "source": [
    "**Observation:**"
   ]
  },
  {
   "cell_type": "markdown",
   "metadata": {
    "id": "cufqCE4KVyE8"
   },
   "source": [
    "The dataset on different vehicles (e.g., Bike, Van D+DA, Van DCD) operating in three different shifts ie., A, B, C (morning, afternoon, and evening), the output will show statistical summaries of the Total Assigned Packages for each of the combination of vehicle and shifts type."
   ]
  },
  {
   "cell_type": "markdown",
   "metadata": {
    "id": "BUdmxrAqWVFa"
   },
   "source": [
    "This allows us to observe the trends, variations, and potential insights into the productivity patterns of different vehicles during different shifts."
   ]
  },
  {
   "cell_type": "markdown",
   "metadata": {
    "id": "7pq05BkzWVCm"
   },
   "source": [
    "By the above analysis we can understand that the productivity of the delivery partners using 'Bike' and 'Van DCD' as their Vehicle_type in the morning shift is better as compared to the other shifts whereas the productivity of delivery partners using 'Van D + DA' in the afternoon shift is better."
   ]
  },
  {
   "cell_type": "markdown",
   "metadata": {
    "id": "SBcniiRABcC4"
   },
   "source": [
    "**Part E:**\n",
    "\n",
    "Low productivity adversely affects both - service levels as well as unit level economics of the business. Curbing this is quintessential to running a good operation.\n",
    "\n",
    "Now that you have a sense of the productivity levels of different vehicle types in each shift, use this information to formulate logic to classify all the samples across all shifts as either \"productivity-ok\" or \"productivity-low\". Add this information into a column called \"Productivity Category\".\n",
    "\n",
    "* Keep in mind that the productivity of one vehicle type is not comparable to the other. A bike may travel faster when there is more traffic. A van may be able to carry a much larger number of packages, etc...\n",
    "\n",
    "* Keep in mind that productivity from Shift A is not comparable to productivity from Shifts B or C or vice versa. Each shift should have it's own threshold for defining low productivity.\n",
    "\n",
    "* Most importantly, keep in mind that the ideal solution would be to identify a smaller set of people who contribute to the largest part of the problem.\n",
    "\n",
    "* You are not being given any specific formula here to do this. You will need to think creatively and come up with an appropriate method."
   ]
  },
  {
   "cell_type": "code",
   "execution_count": 25,
   "metadata": {
    "id": "vJOMbyvTVema"
   },
   "outputs": [],
   "source": [
    "# Find the mode of the total assigned packages, to understand the frequently occurring values in the dataset.\n",
    "\n",
    "mode_total_assigned_packages = daily_df['Total Assigned'].mode()"
   ]
  },
  {
   "cell_type": "code",
   "execution_count": 26,
   "metadata": {
    "id": "O-tkCVC3WU_2"
   },
   "outputs": [],
   "source": [
    "# Analyze data and report ranges of productivity for different vehicle types in different shifts\n",
    "productivity_ranges =  daily_df.groupby(['Vehicle_type', 'Shift'])['Total Assigned'].describe()"
   ]
  },
  {
   "cell_type": "code",
   "execution_count": 27,
   "metadata": {
    "id": "_wTPYe2SVyV6"
   },
   "outputs": [],
   "source": [
    "# Set the thresholds for 'low' productivity based on percentiles\n",
    "\n",
    "low_thresholds = daily_df['Total Assigned'].quantile(0.25)"
   ]
  },
  {
   "cell_type": "code",
   "execution_count": 28,
   "metadata": {
    "id": "oSiabg3dXxVM"
   },
   "outputs": [],
   "source": [
    "# Classify the samples as 'productivity-ok' or 'productivity-low'\n",
    "\n",
    "daily_df['Productivity Category'] = 'productivity-ok'     # Initialize with 'OK'\n",
    "daily_df.loc[daily_df['Total Assigned'] < low_thresholds, 'Productivity Category'] = 'productivity-low'     # Initialize with 'LOW'"
   ]
  },
  {
   "cell_type": "markdown",
   "metadata": {
    "id": "gMbpG2APYx10"
   },
   "source": [
    "To classify the samples into 'ok' or 'low' productivity categories, considering the non-compatibility of different vehicle types and shifts, we set the thresholds based on our analysis."
   ]
  },
  {
   "cell_type": "code",
   "execution_count": 29,
   "metadata": {
    "colab": {
     "base_uri": "https://localhost:8080/",
     "height": 635
    },
    "id": "9ba8eHmvYx10",
    "outputId": "ef0d3bb2-8d31-4620-ffd1-5e422416c588"
   },
   "outputs": [
    {
     "data": {
      "text/html": [
       "<div>\n",
       "<style scoped>\n",
       "    .dataframe tbody tr th:only-of-type {\n",
       "        vertical-align: middle;\n",
       "    }\n",
       "\n",
       "    .dataframe tbody tr th {\n",
       "        vertical-align: top;\n",
       "    }\n",
       "\n",
       "    .dataframe thead th {\n",
       "        text-align: right;\n",
       "    }\n",
       "</style>\n",
       "<table border=\"1\" class=\"dataframe\">\n",
       "  <thead>\n",
       "    <tr style=\"text-align: right;\">\n",
       "      <th></th>\n",
       "      <th>Site Code</th>\n",
       "      <th>city</th>\n",
       "      <th>Vehicle_type</th>\n",
       "      <th>cluster</th>\n",
       "      <th>Date</th>\n",
       "      <th>Delivery Agent ID</th>\n",
       "      <th>Shift</th>\n",
       "      <th>Unsuccessful_Attempts</th>\n",
       "      <th>Process_Deviations</th>\n",
       "      <th>Delivered</th>\n",
       "      <th>Customer_Rejects</th>\n",
       "      <th>Picked_up_Customer_Returns</th>\n",
       "      <th>Picked up_Seller</th>\n",
       "      <th>billing_amt</th>\n",
       "      <th>Total Assigned</th>\n",
       "      <th>Productivity</th>\n",
       "      <th>Productivity Category</th>\n",
       "    </tr>\n",
       "  </thead>\n",
       "  <tbody>\n",
       "    <tr>\n",
       "      <th>0</th>\n",
       "      <td>Site_22</td>\n",
       "      <td>HYDERABAD</td>\n",
       "      <td>Bike</td>\n",
       "      <td>4.0</td>\n",
       "      <td>2023-06-27</td>\n",
       "      <td>DA_280</td>\n",
       "      <td>A</td>\n",
       "      <td>0.0</td>\n",
       "      <td>0.0</td>\n",
       "      <td>3.0</td>\n",
       "      <td>1.0</td>\n",
       "      <td>26.0</td>\n",
       "      <td>0.0</td>\n",
       "      <td>955.0</td>\n",
       "      <td>30.0</td>\n",
       "      <td>30.0</td>\n",
       "      <td>productivity-ok</td>\n",
       "    </tr>\n",
       "    <tr>\n",
       "      <th>1</th>\n",
       "      <td>Site_10</td>\n",
       "      <td>BANGALORE</td>\n",
       "      <td>Van DCD</td>\n",
       "      <td>4.0</td>\n",
       "      <td>2023-06-08</td>\n",
       "      <td>DA_273</td>\n",
       "      <td>A</td>\n",
       "      <td>0.0</td>\n",
       "      <td>9.0</td>\n",
       "      <td>60.0</td>\n",
       "      <td>1.0</td>\n",
       "      <td>20.0</td>\n",
       "      <td>0.0</td>\n",
       "      <td>2075.0</td>\n",
       "      <td>81.0</td>\n",
       "      <td>81.0</td>\n",
       "      <td>productivity-ok</td>\n",
       "    </tr>\n",
       "    <tr>\n",
       "      <th>2</th>\n",
       "      <td>Site_3</td>\n",
       "      <td>BANGALORE</td>\n",
       "      <td>Bike</td>\n",
       "      <td>4.0</td>\n",
       "      <td>2023-06-25</td>\n",
       "      <td>DA_370</td>\n",
       "      <td>C</td>\n",
       "      <td>2.0</td>\n",
       "      <td>0.0</td>\n",
       "      <td>15.0</td>\n",
       "      <td>0.0</td>\n",
       "      <td>2.0</td>\n",
       "      <td>0.0</td>\n",
       "      <td>571.0</td>\n",
       "      <td>19.0</td>\n",
       "      <td>17.0</td>\n",
       "      <td>productivity-low</td>\n",
       "    </tr>\n",
       "    <tr>\n",
       "      <th>3</th>\n",
       "      <td>Site_10</td>\n",
       "      <td>BANGALORE</td>\n",
       "      <td>Van DCD</td>\n",
       "      <td>4.0</td>\n",
       "      <td>2023-06-22</td>\n",
       "      <td>DA_118</td>\n",
       "      <td>B</td>\n",
       "      <td>1.0</td>\n",
       "      <td>0.0</td>\n",
       "      <td>15.0</td>\n",
       "      <td>0.0</td>\n",
       "      <td>0.0</td>\n",
       "      <td>0.0</td>\n",
       "      <td>1275.0</td>\n",
       "      <td>16.0</td>\n",
       "      <td>15.0</td>\n",
       "      <td>productivity-low</td>\n",
       "    </tr>\n",
       "    <tr>\n",
       "      <th>4</th>\n",
       "      <td>Site_4</td>\n",
       "      <td>BANGALORE</td>\n",
       "      <td>Van DCD</td>\n",
       "      <td>4.0</td>\n",
       "      <td>2023-06-11</td>\n",
       "      <td>DA_136</td>\n",
       "      <td>B</td>\n",
       "      <td>5.0</td>\n",
       "      <td>0.0</td>\n",
       "      <td>40.0</td>\n",
       "      <td>1.0</td>\n",
       "      <td>0.0</td>\n",
       "      <td>0.0</td>\n",
       "      <td>1353.0</td>\n",
       "      <td>46.0</td>\n",
       "      <td>41.0</td>\n",
       "      <td>productivity-ok</td>\n",
       "    </tr>\n",
       "    <tr>\n",
       "      <th>...</th>\n",
       "      <td>...</td>\n",
       "      <td>...</td>\n",
       "      <td>...</td>\n",
       "      <td>...</td>\n",
       "      <td>...</td>\n",
       "      <td>...</td>\n",
       "      <td>...</td>\n",
       "      <td>...</td>\n",
       "      <td>...</td>\n",
       "      <td>...</td>\n",
       "      <td>...</td>\n",
       "      <td>...</td>\n",
       "      <td>...</td>\n",
       "      <td>...</td>\n",
       "      <td>...</td>\n",
       "      <td>...</td>\n",
       "      <td>...</td>\n",
       "    </tr>\n",
       "    <tr>\n",
       "      <th>12274</th>\n",
       "      <td>Site_22</td>\n",
       "      <td>BANGALORE</td>\n",
       "      <td>Bike</td>\n",
       "      <td>4.0</td>\n",
       "      <td>2023-06-06</td>\n",
       "      <td>DA_34</td>\n",
       "      <td>nan</td>\n",
       "      <td>0.0</td>\n",
       "      <td>0.0</td>\n",
       "      <td>0.0</td>\n",
       "      <td>0.0</td>\n",
       "      <td>0.0</td>\n",
       "      <td>0.0</td>\n",
       "      <td>0.0</td>\n",
       "      <td>0.0</td>\n",
       "      <td>0.0</td>\n",
       "      <td>productivity-low</td>\n",
       "    </tr>\n",
       "    <tr>\n",
       "      <th>12275</th>\n",
       "      <td>Site_22</td>\n",
       "      <td>BANGALORE</td>\n",
       "      <td>Bike</td>\n",
       "      <td>4.0</td>\n",
       "      <td>2023-06-06</td>\n",
       "      <td>DA_34</td>\n",
       "      <td>nan</td>\n",
       "      <td>0.0</td>\n",
       "      <td>0.0</td>\n",
       "      <td>0.0</td>\n",
       "      <td>0.0</td>\n",
       "      <td>0.0</td>\n",
       "      <td>0.0</td>\n",
       "      <td>0.0</td>\n",
       "      <td>0.0</td>\n",
       "      <td>0.0</td>\n",
       "      <td>productivity-low</td>\n",
       "    </tr>\n",
       "    <tr>\n",
       "      <th>12276</th>\n",
       "      <td>Site_22</td>\n",
       "      <td>BANGALORE</td>\n",
       "      <td>Bike</td>\n",
       "      <td>4.0</td>\n",
       "      <td>2023-06-06</td>\n",
       "      <td>DA_34</td>\n",
       "      <td>nan</td>\n",
       "      <td>0.0</td>\n",
       "      <td>0.0</td>\n",
       "      <td>0.0</td>\n",
       "      <td>0.0</td>\n",
       "      <td>0.0</td>\n",
       "      <td>0.0</td>\n",
       "      <td>0.0</td>\n",
       "      <td>0.0</td>\n",
       "      <td>0.0</td>\n",
       "      <td>productivity-low</td>\n",
       "    </tr>\n",
       "    <tr>\n",
       "      <th>12277</th>\n",
       "      <td>Site_22</td>\n",
       "      <td>BANGALORE</td>\n",
       "      <td>Bike</td>\n",
       "      <td>4.0</td>\n",
       "      <td>2023-06-06</td>\n",
       "      <td>DA_34</td>\n",
       "      <td>nan</td>\n",
       "      <td>0.0</td>\n",
       "      <td>0.0</td>\n",
       "      <td>0.0</td>\n",
       "      <td>0.0</td>\n",
       "      <td>0.0</td>\n",
       "      <td>0.0</td>\n",
       "      <td>0.0</td>\n",
       "      <td>0.0</td>\n",
       "      <td>0.0</td>\n",
       "      <td>productivity-low</td>\n",
       "    </tr>\n",
       "    <tr>\n",
       "      <th>12278</th>\n",
       "      <td>Site_22</td>\n",
       "      <td>BANGALORE</td>\n",
       "      <td>Bike</td>\n",
       "      <td>4.0</td>\n",
       "      <td>2023-06-06</td>\n",
       "      <td>DA_34</td>\n",
       "      <td>nan</td>\n",
       "      <td>0.0</td>\n",
       "      <td>0.0</td>\n",
       "      <td>0.0</td>\n",
       "      <td>0.0</td>\n",
       "      <td>0.0</td>\n",
       "      <td>0.0</td>\n",
       "      <td>0.0</td>\n",
       "      <td>0.0</td>\n",
       "      <td>0.0</td>\n",
       "      <td>productivity-low</td>\n",
       "    </tr>\n",
       "  </tbody>\n",
       "</table>\n",
       "<p>12279 rows × 17 columns</p>\n",
       "</div>"
      ],
      "text/plain": [
       "      Site Code       city Vehicle_type  cluster       Date Delivery Agent ID  \\\n",
       "0       Site_22  HYDERABAD         Bike      4.0 2023-06-27            DA_280   \n",
       "1       Site_10  BANGALORE      Van DCD      4.0 2023-06-08            DA_273   \n",
       "2        Site_3  BANGALORE         Bike      4.0 2023-06-25            DA_370   \n",
       "3       Site_10  BANGALORE      Van DCD      4.0 2023-06-22            DA_118   \n",
       "4        Site_4  BANGALORE      Van DCD      4.0 2023-06-11            DA_136   \n",
       "...         ...        ...          ...      ...        ...               ...   \n",
       "12274   Site_22  BANGALORE         Bike      4.0 2023-06-06             DA_34   \n",
       "12275   Site_22  BANGALORE         Bike      4.0 2023-06-06             DA_34   \n",
       "12276   Site_22  BANGALORE         Bike      4.0 2023-06-06             DA_34   \n",
       "12277   Site_22  BANGALORE         Bike      4.0 2023-06-06             DA_34   \n",
       "12278   Site_22  BANGALORE         Bike      4.0 2023-06-06             DA_34   \n",
       "\n",
       "      Shift  Unsuccessful_Attempts  Process_Deviations  Delivered  \\\n",
       "0         A                    0.0                 0.0        3.0   \n",
       "1         A                    0.0                 9.0       60.0   \n",
       "2         C                    2.0                 0.0       15.0   \n",
       "3         B                    1.0                 0.0       15.0   \n",
       "4         B                    5.0                 0.0       40.0   \n",
       "...     ...                    ...                 ...        ...   \n",
       "12274   nan                    0.0                 0.0        0.0   \n",
       "12275   nan                    0.0                 0.0        0.0   \n",
       "12276   nan                    0.0                 0.0        0.0   \n",
       "12277   nan                    0.0                 0.0        0.0   \n",
       "12278   nan                    0.0                 0.0        0.0   \n",
       "\n",
       "       Customer_Rejects  Picked_up_Customer_Returns  Picked up_Seller  \\\n",
       "0                   1.0                        26.0               0.0   \n",
       "1                   1.0                        20.0               0.0   \n",
       "2                   0.0                         2.0               0.0   \n",
       "3                   0.0                         0.0               0.0   \n",
       "4                   1.0                         0.0               0.0   \n",
       "...                 ...                         ...               ...   \n",
       "12274               0.0                         0.0               0.0   \n",
       "12275               0.0                         0.0               0.0   \n",
       "12276               0.0                         0.0               0.0   \n",
       "12277               0.0                         0.0               0.0   \n",
       "12278               0.0                         0.0               0.0   \n",
       "\n",
       "       billing_amt  Total Assigned  Productivity Productivity Category  \n",
       "0            955.0            30.0          30.0       productivity-ok  \n",
       "1           2075.0            81.0          81.0       productivity-ok  \n",
       "2            571.0            19.0          17.0      productivity-low  \n",
       "3           1275.0            16.0          15.0      productivity-low  \n",
       "4           1353.0            46.0          41.0       productivity-ok  \n",
       "...            ...             ...           ...                   ...  \n",
       "12274          0.0             0.0           0.0      productivity-low  \n",
       "12275          0.0             0.0           0.0      productivity-low  \n",
       "12276          0.0             0.0           0.0      productivity-low  \n",
       "12277          0.0             0.0           0.0      productivity-low  \n",
       "12278          0.0             0.0           0.0      productivity-low  \n",
       "\n",
       "[12279 rows x 17 columns]"
      ]
     },
     "execution_count": 29,
     "metadata": {},
     "output_type": "execute_result"
    }
   ],
   "source": [
    "daily_df"
   ]
  },
  {
   "cell_type": "markdown",
   "metadata": {
    "id": "38CTJBZPusTv"
   },
   "source": [
    "***Explain briefly the logic you have used to solve the question above***"
   ]
  },
  {
   "cell_type": "markdown",
   "metadata": {
    "id": "j9kertB2u39K"
   },
   "source": [
    "In the above code, the Productivity Category is added to the Dataframe, indicating whether each sample is classified as 'Ok' or 'low'."
   ]
  },
  {
   "cell_type": "markdown",
   "metadata": {
    "id": "Dd7MIB1Fu36V"
   },
   "source": [
    "The approach aims to differentiate productivity categories based on statistical insights from the data."
   ]
  },
  {
   "cell_type": "markdown",
   "metadata": {
    "id": "ceS0m_LAYx11"
   },
   "source": [
    "The 'low' category is determined relative to the distribution of 'Total Assigned' Packages within each vehicle type and Shift, ensuring that the productivity is evaluated in a context-specific manner."
   ]
  },
  {
   "cell_type": "code",
   "execution_count": 30,
   "metadata": {
    "colab": {
     "base_uri": "https://localhost:8080/",
     "height": 135
    },
    "id": "2dWB44hZYx11",
    "outputId": "bb0b5756-bbd0-4082-bce1-9f99d1a06680",
    "scrolled": true
   },
   "outputs": [
    {
     "data": {
      "text/html": [
       "<div>\n",
       "<style scoped>\n",
       "    .dataframe tbody tr th:only-of-type {\n",
       "        vertical-align: middle;\n",
       "    }\n",
       "\n",
       "    .dataframe tbody tr th {\n",
       "        vertical-align: top;\n",
       "    }\n",
       "\n",
       "    .dataframe thead th {\n",
       "        text-align: right;\n",
       "    }\n",
       "</style>\n",
       "<table border=\"1\" class=\"dataframe\">\n",
       "  <thead>\n",
       "    <tr style=\"text-align: right;\">\n",
       "      <th></th>\n",
       "      <th>Site Code</th>\n",
       "      <th>city</th>\n",
       "      <th>Vehicle_type</th>\n",
       "      <th>cluster</th>\n",
       "      <th>Date</th>\n",
       "      <th>Delivery Agent ID</th>\n",
       "      <th>Shift</th>\n",
       "      <th>Unsuccessful_Attempts</th>\n",
       "      <th>Process_Deviations</th>\n",
       "      <th>Delivered</th>\n",
       "      <th>Customer_Rejects</th>\n",
       "      <th>Picked_up_Customer_Returns</th>\n",
       "      <th>Picked up_Seller</th>\n",
       "      <th>billing_amt</th>\n",
       "      <th>Total Assigned</th>\n",
       "      <th>Productivity</th>\n",
       "      <th>Productivity Category</th>\n",
       "    </tr>\n",
       "  </thead>\n",
       "  <tbody>\n",
       "    <tr>\n",
       "      <th>0</th>\n",
       "      <td>Site_22</td>\n",
       "      <td>HYDERABAD</td>\n",
       "      <td>Bike</td>\n",
       "      <td>4.0</td>\n",
       "      <td>2023-06-27</td>\n",
       "      <td>DA_280</td>\n",
       "      <td>A</td>\n",
       "      <td>0.0</td>\n",
       "      <td>0.0</td>\n",
       "      <td>3.0</td>\n",
       "      <td>1.0</td>\n",
       "      <td>26.0</td>\n",
       "      <td>0.0</td>\n",
       "      <td>955.0</td>\n",
       "      <td>30.0</td>\n",
       "      <td>30.0</td>\n",
       "      <td>productivity-ok</td>\n",
       "    </tr>\n",
       "  </tbody>\n",
       "</table>\n",
       "</div>"
      ],
      "text/plain": [
       "  Site Code       city Vehicle_type  cluster       Date Delivery Agent ID  \\\n",
       "0   Site_22  HYDERABAD         Bike      4.0 2023-06-27            DA_280   \n",
       "\n",
       "  Shift  Unsuccessful_Attempts  Process_Deviations  Delivered  \\\n",
       "0     A                    0.0                 0.0        3.0   \n",
       "\n",
       "   Customer_Rejects  Picked_up_Customer_Returns  Picked up_Seller  \\\n",
       "0               1.0                        26.0               0.0   \n",
       "\n",
       "   billing_amt  Total Assigned  Productivity Productivity Category  \n",
       "0        955.0            30.0          30.0       productivity-ok  "
      ]
     },
     "execution_count": 30,
     "metadata": {},
     "output_type": "execute_result"
    }
   ],
   "source": [
    "daily_df.head(1)"
   ]
  },
  {
   "cell_type": "code",
   "execution_count": 31,
   "metadata": {
    "id": "xAq2ONyVYx12"
   },
   "outputs": [],
   "source": [
    "agent_id = 'Delivery Agent ID'"
   ]
  },
  {
   "cell_type": "code",
   "execution_count": 32,
   "metadata": {
    "id": "R3cv1y4-Yx12"
   },
   "outputs": [],
   "source": [
    "# Filtering the dataframe for specific delivery person\n",
    "\n",
    "agent_data = daily_df[daily_df['Delivery Agent ID'] == agent_id]"
   ]
  },
  {
   "cell_type": "code",
   "execution_count": 33,
   "metadata": {
    "id": "YWh7bwlOYx12"
   },
   "outputs": [],
   "source": [
    "# Count the number of shifts worked by the delivery person\n",
    "\n",
    "shift_count = agent_data['Shift'].value_counts()"
   ]
  },
  {
   "cell_type": "code",
   "execution_count": 34,
   "metadata": {
    "id": "DkK8E0ugYx12"
   },
   "outputs": [],
   "source": [
    "# Creating a new column 'No. od Shifts Worked'\n",
    "\n",
    "daily_df['No. of Shifts Worked'] = daily_df.groupby('Delivery Agent ID')['Shift'].transform('count')"
   ]
  },
  {
   "cell_type": "code",
   "execution_count": 35,
   "metadata": {
    "colab": {
     "base_uri": "https://localhost:8080/",
     "height": 591
    },
    "id": "lkz72KmPYx12",
    "outputId": "1d49b3a5-249f-4efa-dbf8-d04f401ae380",
    "scrolled": false
   },
   "outputs": [
    {
     "data": {
      "text/html": [
       "<div>\n",
       "<style scoped>\n",
       "    .dataframe tbody tr th:only-of-type {\n",
       "        vertical-align: middle;\n",
       "    }\n",
       "\n",
       "    .dataframe tbody tr th {\n",
       "        vertical-align: top;\n",
       "    }\n",
       "\n",
       "    .dataframe thead th {\n",
       "        text-align: right;\n",
       "    }\n",
       "</style>\n",
       "<table border=\"1\" class=\"dataframe\">\n",
       "  <thead>\n",
       "    <tr style=\"text-align: right;\">\n",
       "      <th></th>\n",
       "      <th>Site Code</th>\n",
       "      <th>city</th>\n",
       "      <th>Vehicle_type</th>\n",
       "      <th>cluster</th>\n",
       "      <th>Date</th>\n",
       "      <th>Delivery Agent ID</th>\n",
       "      <th>Shift</th>\n",
       "      <th>Unsuccessful_Attempts</th>\n",
       "      <th>Process_Deviations</th>\n",
       "      <th>Delivered</th>\n",
       "      <th>Customer_Rejects</th>\n",
       "      <th>Picked_up_Customer_Returns</th>\n",
       "      <th>Picked up_Seller</th>\n",
       "      <th>billing_amt</th>\n",
       "      <th>Total Assigned</th>\n",
       "      <th>Productivity</th>\n",
       "      <th>Productivity Category</th>\n",
       "      <th>No. of Shifts Worked</th>\n",
       "    </tr>\n",
       "  </thead>\n",
       "  <tbody>\n",
       "    <tr>\n",
       "      <th>0</th>\n",
       "      <td>Site_22</td>\n",
       "      <td>HYDERABAD</td>\n",
       "      <td>Bike</td>\n",
       "      <td>4.0</td>\n",
       "      <td>2023-06-27</td>\n",
       "      <td>DA_280</td>\n",
       "      <td>A</td>\n",
       "      <td>0.0</td>\n",
       "      <td>0.0</td>\n",
       "      <td>3.0</td>\n",
       "      <td>1.0</td>\n",
       "      <td>26.0</td>\n",
       "      <td>0.0</td>\n",
       "      <td>955.0</td>\n",
       "      <td>30.0</td>\n",
       "      <td>30.0</td>\n",
       "      <td>productivity-ok</td>\n",
       "      <td>24</td>\n",
       "    </tr>\n",
       "    <tr>\n",
       "      <th>1</th>\n",
       "      <td>Site_10</td>\n",
       "      <td>BANGALORE</td>\n",
       "      <td>Van DCD</td>\n",
       "      <td>4.0</td>\n",
       "      <td>2023-06-08</td>\n",
       "      <td>DA_273</td>\n",
       "      <td>A</td>\n",
       "      <td>0.0</td>\n",
       "      <td>9.0</td>\n",
       "      <td>60.0</td>\n",
       "      <td>1.0</td>\n",
       "      <td>20.0</td>\n",
       "      <td>0.0</td>\n",
       "      <td>2075.0</td>\n",
       "      <td>81.0</td>\n",
       "      <td>81.0</td>\n",
       "      <td>productivity-ok</td>\n",
       "      <td>25</td>\n",
       "    </tr>\n",
       "    <tr>\n",
       "      <th>2</th>\n",
       "      <td>Site_3</td>\n",
       "      <td>BANGALORE</td>\n",
       "      <td>Bike</td>\n",
       "      <td>4.0</td>\n",
       "      <td>2023-06-25</td>\n",
       "      <td>DA_370</td>\n",
       "      <td>C</td>\n",
       "      <td>2.0</td>\n",
       "      <td>0.0</td>\n",
       "      <td>15.0</td>\n",
       "      <td>0.0</td>\n",
       "      <td>2.0</td>\n",
       "      <td>0.0</td>\n",
       "      <td>571.0</td>\n",
       "      <td>19.0</td>\n",
       "      <td>17.0</td>\n",
       "      <td>productivity-low</td>\n",
       "      <td>24</td>\n",
       "    </tr>\n",
       "    <tr>\n",
       "      <th>3</th>\n",
       "      <td>Site_10</td>\n",
       "      <td>BANGALORE</td>\n",
       "      <td>Van DCD</td>\n",
       "      <td>4.0</td>\n",
       "      <td>2023-06-22</td>\n",
       "      <td>DA_118</td>\n",
       "      <td>B</td>\n",
       "      <td>1.0</td>\n",
       "      <td>0.0</td>\n",
       "      <td>15.0</td>\n",
       "      <td>0.0</td>\n",
       "      <td>0.0</td>\n",
       "      <td>0.0</td>\n",
       "      <td>1275.0</td>\n",
       "      <td>16.0</td>\n",
       "      <td>15.0</td>\n",
       "      <td>productivity-low</td>\n",
       "      <td>20</td>\n",
       "    </tr>\n",
       "    <tr>\n",
       "      <th>4</th>\n",
       "      <td>Site_4</td>\n",
       "      <td>BANGALORE</td>\n",
       "      <td>Van DCD</td>\n",
       "      <td>4.0</td>\n",
       "      <td>2023-06-11</td>\n",
       "      <td>DA_136</td>\n",
       "      <td>B</td>\n",
       "      <td>5.0</td>\n",
       "      <td>0.0</td>\n",
       "      <td>40.0</td>\n",
       "      <td>1.0</td>\n",
       "      <td>0.0</td>\n",
       "      <td>0.0</td>\n",
       "      <td>1353.0</td>\n",
       "      <td>46.0</td>\n",
       "      <td>41.0</td>\n",
       "      <td>productivity-ok</td>\n",
       "      <td>24</td>\n",
       "    </tr>\n",
       "    <tr>\n",
       "      <th>5</th>\n",
       "      <td>Site_3</td>\n",
       "      <td>BANGALORE</td>\n",
       "      <td>Van DCD</td>\n",
       "      <td>4.0</td>\n",
       "      <td>2023-06-24</td>\n",
       "      <td>DA_36</td>\n",
       "      <td>B</td>\n",
       "      <td>0.0</td>\n",
       "      <td>0.0</td>\n",
       "      <td>22.0</td>\n",
       "      <td>0.0</td>\n",
       "      <td>0.0</td>\n",
       "      <td>0.0</td>\n",
       "      <td>1429.0</td>\n",
       "      <td>22.0</td>\n",
       "      <td>22.0</td>\n",
       "      <td>productivity-low</td>\n",
       "      <td>15</td>\n",
       "    </tr>\n",
       "    <tr>\n",
       "      <th>6</th>\n",
       "      <td>Site_19</td>\n",
       "      <td>HYDERABAD</td>\n",
       "      <td>Bike</td>\n",
       "      <td>4.0</td>\n",
       "      <td>2023-06-05</td>\n",
       "      <td>DA_295</td>\n",
       "      <td>C</td>\n",
       "      <td>2.0</td>\n",
       "      <td>0.0</td>\n",
       "      <td>29.0</td>\n",
       "      <td>0.0</td>\n",
       "      <td>2.0</td>\n",
       "      <td>0.0</td>\n",
       "      <td>613.0</td>\n",
       "      <td>33.0</td>\n",
       "      <td>31.0</td>\n",
       "      <td>productivity-ok</td>\n",
       "      <td>26</td>\n",
       "    </tr>\n",
       "    <tr>\n",
       "      <th>7</th>\n",
       "      <td>Site_27</td>\n",
       "      <td>MUMBAI</td>\n",
       "      <td>Bike</td>\n",
       "      <td>3.0</td>\n",
       "      <td>2023-06-08</td>\n",
       "      <td>DA_224</td>\n",
       "      <td>A</td>\n",
       "      <td>2.0</td>\n",
       "      <td>0.0</td>\n",
       "      <td>13.0</td>\n",
       "      <td>0.0</td>\n",
       "      <td>31.0</td>\n",
       "      <td>0.0</td>\n",
       "      <td>933.0</td>\n",
       "      <td>46.0</td>\n",
       "      <td>44.0</td>\n",
       "      <td>productivity-ok</td>\n",
       "      <td>26</td>\n",
       "    </tr>\n",
       "    <tr>\n",
       "      <th>8</th>\n",
       "      <td>Site_23</td>\n",
       "      <td>CHENNAI</td>\n",
       "      <td>Bike</td>\n",
       "      <td>3.0</td>\n",
       "      <td>2023-06-23</td>\n",
       "      <td>DA_686</td>\n",
       "      <td>A</td>\n",
       "      <td>0.0</td>\n",
       "      <td>0.0</td>\n",
       "      <td>0.0</td>\n",
       "      <td>0.0</td>\n",
       "      <td>31.0</td>\n",
       "      <td>0.0</td>\n",
       "      <td>907.0</td>\n",
       "      <td>31.0</td>\n",
       "      <td>31.0</td>\n",
       "      <td>productivity-ok</td>\n",
       "      <td>3</td>\n",
       "    </tr>\n",
       "    <tr>\n",
       "      <th>9</th>\n",
       "      <td>Site_16</td>\n",
       "      <td>BANGALORE</td>\n",
       "      <td>Bike</td>\n",
       "      <td>4.0</td>\n",
       "      <td>2023-06-23</td>\n",
       "      <td>DA_569</td>\n",
       "      <td>B</td>\n",
       "      <td>3.0</td>\n",
       "      <td>0.0</td>\n",
       "      <td>34.0</td>\n",
       "      <td>0.0</td>\n",
       "      <td>2.0</td>\n",
       "      <td>0.0</td>\n",
       "      <td>772.0</td>\n",
       "      <td>39.0</td>\n",
       "      <td>36.0</td>\n",
       "      <td>productivity-ok</td>\n",
       "      <td>25</td>\n",
       "    </tr>\n",
       "  </tbody>\n",
       "</table>\n",
       "</div>"
      ],
      "text/plain": [
       "  Site Code       city Vehicle_type  cluster       Date Delivery Agent ID  \\\n",
       "0   Site_22  HYDERABAD         Bike      4.0 2023-06-27            DA_280   \n",
       "1   Site_10  BANGALORE      Van DCD      4.0 2023-06-08            DA_273   \n",
       "2    Site_3  BANGALORE         Bike      4.0 2023-06-25            DA_370   \n",
       "3   Site_10  BANGALORE      Van DCD      4.0 2023-06-22            DA_118   \n",
       "4    Site_4  BANGALORE      Van DCD      4.0 2023-06-11            DA_136   \n",
       "5    Site_3  BANGALORE      Van DCD      4.0 2023-06-24             DA_36   \n",
       "6   Site_19  HYDERABAD         Bike      4.0 2023-06-05            DA_295   \n",
       "7   Site_27     MUMBAI         Bike      3.0 2023-06-08            DA_224   \n",
       "8   Site_23    CHENNAI         Bike      3.0 2023-06-23            DA_686   \n",
       "9   Site_16  BANGALORE         Bike      4.0 2023-06-23            DA_569   \n",
       "\n",
       "  Shift  Unsuccessful_Attempts  Process_Deviations  Delivered  \\\n",
       "0     A                    0.0                 0.0        3.0   \n",
       "1     A                    0.0                 9.0       60.0   \n",
       "2     C                    2.0                 0.0       15.0   \n",
       "3     B                    1.0                 0.0       15.0   \n",
       "4     B                    5.0                 0.0       40.0   \n",
       "5     B                    0.0                 0.0       22.0   \n",
       "6     C                    2.0                 0.0       29.0   \n",
       "7     A                    2.0                 0.0       13.0   \n",
       "8     A                    0.0                 0.0        0.0   \n",
       "9     B                    3.0                 0.0       34.0   \n",
       "\n",
       "   Customer_Rejects  Picked_up_Customer_Returns  Picked up_Seller  \\\n",
       "0               1.0                        26.0               0.0   \n",
       "1               1.0                        20.0               0.0   \n",
       "2               0.0                         2.0               0.0   \n",
       "3               0.0                         0.0               0.0   \n",
       "4               1.0                         0.0               0.0   \n",
       "5               0.0                         0.0               0.0   \n",
       "6               0.0                         2.0               0.0   \n",
       "7               0.0                        31.0               0.0   \n",
       "8               0.0                        31.0               0.0   \n",
       "9               0.0                         2.0               0.0   \n",
       "\n",
       "   billing_amt  Total Assigned  Productivity Productivity Category  \\\n",
       "0        955.0            30.0          30.0       productivity-ok   \n",
       "1       2075.0            81.0          81.0       productivity-ok   \n",
       "2        571.0            19.0          17.0      productivity-low   \n",
       "3       1275.0            16.0          15.0      productivity-low   \n",
       "4       1353.0            46.0          41.0       productivity-ok   \n",
       "5       1429.0            22.0          22.0      productivity-low   \n",
       "6        613.0            33.0          31.0       productivity-ok   \n",
       "7        933.0            46.0          44.0       productivity-ok   \n",
       "8        907.0            31.0          31.0       productivity-ok   \n",
       "9        772.0            39.0          36.0       productivity-ok   \n",
       "\n",
       "   No. of Shifts Worked  \n",
       "0                    24  \n",
       "1                    25  \n",
       "2                    24  \n",
       "3                    20  \n",
       "4                    24  \n",
       "5                    15  \n",
       "6                    26  \n",
       "7                    26  \n",
       "8                     3  \n",
       "9                    25  "
      ]
     },
     "execution_count": 35,
     "metadata": {},
     "output_type": "execute_result"
    }
   ],
   "source": [
    "daily_df.head(10)"
   ]
  },
  {
   "cell_type": "markdown",
   "metadata": {
    "id": "IxOdlYNbuAxx"
   },
   "source": [
    "# Question 3"
   ]
  },
  {
   "cell_type": "markdown",
   "metadata": {
    "id": "hccA8bCKuCxR"
   },
   "source": [
    "**Part A:**\n",
    "\n",
    "The daily_df contains information of how each delivery agent performed on each day that they reported in June 2023. Create a new dataframe that summarizes the performance of each delivery agent for the entire month, using the data from the daily_df.\n",
    "\n",
    "Name this new dataframe \"monthly_df\".\n",
    "\n",
    "The new dataframe should contain the following columns:\n",
    "* Delivery Agent ID\n",
    "* Vehicle Type\n",
    "* Cluster\n",
    "* City\n",
    "* Site Code\n",
    "* No. of Shifts Worked\n",
    "* Total Assigned\n",
    "* Unsuccessful_Attempts\n",
    "* Process_Deviations\n",
    "* Productivity\n",
    "* billing_amt"
   ]
  },
  {
   "cell_type": "code",
   "execution_count": 36,
   "metadata": {
    "colab": {
     "base_uri": "https://localhost:8080/",
     "height": 153
    },
    "id": "B7h-IabQYx13",
    "outputId": "4e6a1d2b-fe90-4f62-b7c4-a3aa5befc352"
   },
   "outputs": [
    {
     "data": {
      "text/html": [
       "<div>\n",
       "<style scoped>\n",
       "    .dataframe tbody tr th:only-of-type {\n",
       "        vertical-align: middle;\n",
       "    }\n",
       "\n",
       "    .dataframe tbody tr th {\n",
       "        vertical-align: top;\n",
       "    }\n",
       "\n",
       "    .dataframe thead th {\n",
       "        text-align: right;\n",
       "    }\n",
       "</style>\n",
       "<table border=\"1\" class=\"dataframe\">\n",
       "  <thead>\n",
       "    <tr style=\"text-align: right;\">\n",
       "      <th></th>\n",
       "      <th>Site Code</th>\n",
       "      <th>city</th>\n",
       "      <th>Vehicle_type</th>\n",
       "      <th>cluster</th>\n",
       "      <th>Date</th>\n",
       "      <th>Delivery Agent ID</th>\n",
       "      <th>Shift</th>\n",
       "      <th>Unsuccessful_Attempts</th>\n",
       "      <th>Process_Deviations</th>\n",
       "      <th>Delivered</th>\n",
       "      <th>Customer_Rejects</th>\n",
       "      <th>Picked_up_Customer_Returns</th>\n",
       "      <th>Picked up_Seller</th>\n",
       "      <th>billing_amt</th>\n",
       "      <th>Total Assigned</th>\n",
       "      <th>Productivity</th>\n",
       "      <th>Productivity Category</th>\n",
       "      <th>No. of Shifts Worked</th>\n",
       "    </tr>\n",
       "  </thead>\n",
       "  <tbody>\n",
       "    <tr>\n",
       "      <th>0</th>\n",
       "      <td>Site_22</td>\n",
       "      <td>HYDERABAD</td>\n",
       "      <td>Bike</td>\n",
       "      <td>4.0</td>\n",
       "      <td>2023-06-27</td>\n",
       "      <td>DA_280</td>\n",
       "      <td>A</td>\n",
       "      <td>0.0</td>\n",
       "      <td>0.0</td>\n",
       "      <td>3.0</td>\n",
       "      <td>1.0</td>\n",
       "      <td>26.0</td>\n",
       "      <td>0.0</td>\n",
       "      <td>955.0</td>\n",
       "      <td>30.0</td>\n",
       "      <td>30.0</td>\n",
       "      <td>productivity-ok</td>\n",
       "      <td>24</td>\n",
       "    </tr>\n",
       "  </tbody>\n",
       "</table>\n",
       "</div>"
      ],
      "text/plain": [
       "  Site Code       city Vehicle_type  cluster       Date Delivery Agent ID  \\\n",
       "0   Site_22  HYDERABAD         Bike      4.0 2023-06-27            DA_280   \n",
       "\n",
       "  Shift  Unsuccessful_Attempts  Process_Deviations  Delivered  \\\n",
       "0     A                    0.0                 0.0        3.0   \n",
       "\n",
       "   Customer_Rejects  Picked_up_Customer_Returns  Picked up_Seller  \\\n",
       "0               1.0                        26.0               0.0   \n",
       "\n",
       "   billing_amt  Total Assigned  Productivity Productivity Category  \\\n",
       "0        955.0            30.0          30.0       productivity-ok   \n",
       "\n",
       "   No. of Shifts Worked  \n",
       "0                    24  "
      ]
     },
     "execution_count": 36,
     "metadata": {},
     "output_type": "execute_result"
    }
   ],
   "source": [
    "daily_df.head(1)"
   ]
  },
  {
   "cell_type": "code",
   "execution_count": 37,
   "metadata": {
    "id": "WNxsPFFV6FQ2"
   },
   "outputs": [],
   "source": [
    "# Group by 'Delivery Agent ID'\n",
    "\n",
    "monthly_df = daily_df.groupby('Delivery Agent ID').agg({\n",
    "    'Vehicle_type': lambda x: x.mode().iloc[0],\n",
    "    'cluster': lambda x: x.mode().iloc[0],\n",
    "    'city': lambda x: x.mode().iloc[0],\n",
    "    'Site Code': lambda x: x.mode().iloc[0],\n",
    "    'No. of Shifts Worked': lambda x: x.mode().iloc[0],\n",
    "    'Total Assigned': lambda x: x.mode().iloc[0],\n",
    "    'Unsuccessful_Attempts': lambda x: x.mode().iloc[0],\n",
    "    'Process_Deviations': lambda x: x.mode().iloc[0],\n",
    "    'Productivity': lambda x: x.mode().iloc[0],     # Productivity Category is categorical\n",
    "    'billing_amt': lambda x: x.mode().iloc[0]\n",
    "}).reset_index()"
   ]
  },
  {
   "cell_type": "markdown",
   "metadata": {
    "id": "Wtu8MvRiWgl-"
   },
   "source": [
    "**Part B:**\n",
    "\n",
    "\"Delivery Success Rate(DSR)\" is a metric that measures the quality of a delivery agent's work. If an angent has low DSR, it means that he/she would have a higher number of unsuccessful attempts.\n",
    "\n",
    "DSR can be calculated using the following formula:\n",
    "\n",
    "DSR = Productivity / Total Assigned.\n",
    "\n",
    "Using this formula, calculate and add a new column called \"DSR\" in the monthly_df. Round the values to 2 decimal placecs."
   ]
  },
  {
   "cell_type": "code",
   "execution_count": 38,
   "metadata": {
    "id": "zlULN9s0XMUx"
   },
   "outputs": [],
   "source": [
    "# Adding a new column named 'DSR' by dividing the Productivity with the Total Assigned Packages\n",
    "## to our new created dataframe 'monthly_df'.\n",
    "\n",
    "monthly_df['DSR'] = round((monthly_df['Productivity'] / monthly_df['Total Assigned']), 2)"
   ]
  },
  {
   "cell_type": "code",
   "execution_count": 39,
   "metadata": {
    "colab": {
     "base_uri": "https://localhost:8080/",
     "height": 261
    },
    "id": "lS1BN39gYx14",
    "outputId": "a2a3d1e1-78b9-4fbd-898c-8db3836f1cbc"
   },
   "outputs": [
    {
     "data": {
      "text/html": [
       "<div>\n",
       "<style scoped>\n",
       "    .dataframe tbody tr th:only-of-type {\n",
       "        vertical-align: middle;\n",
       "    }\n",
       "\n",
       "    .dataframe tbody tr th {\n",
       "        vertical-align: top;\n",
       "    }\n",
       "\n",
       "    .dataframe thead th {\n",
       "        text-align: right;\n",
       "    }\n",
       "</style>\n",
       "<table border=\"1\" class=\"dataframe\">\n",
       "  <thead>\n",
       "    <tr style=\"text-align: right;\">\n",
       "      <th></th>\n",
       "      <th>Delivery Agent ID</th>\n",
       "      <th>Vehicle_type</th>\n",
       "      <th>cluster</th>\n",
       "      <th>city</th>\n",
       "      <th>Site Code</th>\n",
       "      <th>No. of Shifts Worked</th>\n",
       "      <th>Total Assigned</th>\n",
       "      <th>Unsuccessful_Attempts</th>\n",
       "      <th>Process_Deviations</th>\n",
       "      <th>Productivity</th>\n",
       "      <th>billing_amt</th>\n",
       "      <th>DSR</th>\n",
       "    </tr>\n",
       "  </thead>\n",
       "  <tbody>\n",
       "    <tr>\n",
       "      <th>0</th>\n",
       "      <td>DA_1</td>\n",
       "      <td>Bike</td>\n",
       "      <td>6.0</td>\n",
       "      <td>DELHI</td>\n",
       "      <td>Site_29</td>\n",
       "      <td>22</td>\n",
       "      <td>58.0</td>\n",
       "      <td>0.0</td>\n",
       "      <td>0.0</td>\n",
       "      <td>56.0</td>\n",
       "      <td>1132.0</td>\n",
       "      <td>0.97</td>\n",
       "    </tr>\n",
       "    <tr>\n",
       "      <th>1</th>\n",
       "      <td>DA_10</td>\n",
       "      <td>Van DCD</td>\n",
       "      <td>4.0</td>\n",
       "      <td>BANGALORE</td>\n",
       "      <td>Site_3</td>\n",
       "      <td>15</td>\n",
       "      <td>29.0</td>\n",
       "      <td>4.0</td>\n",
       "      <td>0.0</td>\n",
       "      <td>24.0</td>\n",
       "      <td>1433.0</td>\n",
       "      <td>0.83</td>\n",
       "    </tr>\n",
       "    <tr>\n",
       "      <th>2</th>\n",
       "      <td>DA_100</td>\n",
       "      <td>Bike</td>\n",
       "      <td>4.0</td>\n",
       "      <td>HYDERABAD</td>\n",
       "      <td>Site_19</td>\n",
       "      <td>3</td>\n",
       "      <td>32.0</td>\n",
       "      <td>0.0</td>\n",
       "      <td>0.0</td>\n",
       "      <td>32.0</td>\n",
       "      <td>959.0</td>\n",
       "      <td>1.00</td>\n",
       "    </tr>\n",
       "    <tr>\n",
       "      <th>3</th>\n",
       "      <td>DA_101</td>\n",
       "      <td>Van DCD</td>\n",
       "      <td>4.0</td>\n",
       "      <td>HYDERABAD</td>\n",
       "      <td>Site_19</td>\n",
       "      <td>22</td>\n",
       "      <td>71.0</td>\n",
       "      <td>4.0</td>\n",
       "      <td>0.0</td>\n",
       "      <td>69.0</td>\n",
       "      <td>2015.0</td>\n",
       "      <td>0.97</td>\n",
       "    </tr>\n",
       "    <tr>\n",
       "      <th>4</th>\n",
       "      <td>DA_102</td>\n",
       "      <td>Bike</td>\n",
       "      <td>4.0</td>\n",
       "      <td>HYDERABAD</td>\n",
       "      <td>Site_22</td>\n",
       "      <td>25</td>\n",
       "      <td>40.0</td>\n",
       "      <td>0.0</td>\n",
       "      <td>0.0</td>\n",
       "      <td>40.0</td>\n",
       "      <td>975.0</td>\n",
       "      <td>1.00</td>\n",
       "    </tr>\n",
       "  </tbody>\n",
       "</table>\n",
       "</div>"
      ],
      "text/plain": [
       "  Delivery Agent ID Vehicle_type  cluster       city Site Code  \\\n",
       "0              DA_1         Bike      6.0      DELHI   Site_29   \n",
       "1             DA_10      Van DCD      4.0  BANGALORE    Site_3   \n",
       "2            DA_100         Bike      4.0  HYDERABAD   Site_19   \n",
       "3            DA_101      Van DCD      4.0  HYDERABAD   Site_19   \n",
       "4            DA_102         Bike      4.0  HYDERABAD   Site_22   \n",
       "\n",
       "   No. of Shifts Worked  Total Assigned  Unsuccessful_Attempts  \\\n",
       "0                    22            58.0                    0.0   \n",
       "1                    15            29.0                    4.0   \n",
       "2                     3            32.0                    0.0   \n",
       "3                    22            71.0                    4.0   \n",
       "4                    25            40.0                    0.0   \n",
       "\n",
       "   Process_Deviations  Productivity  billing_amt   DSR  \n",
       "0                 0.0          56.0       1132.0  0.97  \n",
       "1                 0.0          24.0       1433.0  0.83  \n",
       "2                 0.0          32.0        959.0  1.00  \n",
       "3                 0.0          69.0       2015.0  0.97  \n",
       "4                 0.0          40.0        975.0  1.00  "
      ]
     },
     "execution_count": 39,
     "metadata": {},
     "output_type": "execute_result"
    }
   ],
   "source": [
    "# rechecking the head of the dataframe\n",
    "monthly_df.head()"
   ]
  },
  {
   "cell_type": "markdown",
   "metadata": {
    "id": "RAirVUv_YSiD"
   },
   "source": [
    "**Part C:**\n",
    "\n",
    "The productivity in the monthly_df is an aggregate of the whole month's productivity. Create a new column called \"Avg_Productivity\" that contains the average productivity per shift of each delivery agent. The values in this column should be expressed as integers.\n",
    "\n",
    "Do the same with Process_Deviations. Calculate the average number of deviations per shift worked and put it into a column called \"Avg_Deviations\". Here the values should be rounded to 2 decimal places"
   ]
  },
  {
   "cell_type": "code",
   "execution_count": 40,
   "metadata": {
    "colab": {
     "base_uri": "https://localhost:8080/",
     "height": 153
    },
    "id": "YINJ2I6wYx15",
    "outputId": "816e7f63-bb7b-4c71-8f99-c06b3ce65dd8"
   },
   "outputs": [
    {
     "data": {
      "text/html": [
       "<div>\n",
       "<style scoped>\n",
       "    .dataframe tbody tr th:only-of-type {\n",
       "        vertical-align: middle;\n",
       "    }\n",
       "\n",
       "    .dataframe tbody tr th {\n",
       "        vertical-align: top;\n",
       "    }\n",
       "\n",
       "    .dataframe thead th {\n",
       "        text-align: right;\n",
       "    }\n",
       "</style>\n",
       "<table border=\"1\" class=\"dataframe\">\n",
       "  <thead>\n",
       "    <tr style=\"text-align: right;\">\n",
       "      <th></th>\n",
       "      <th>Site Code</th>\n",
       "      <th>city</th>\n",
       "      <th>Vehicle_type</th>\n",
       "      <th>cluster</th>\n",
       "      <th>Date</th>\n",
       "      <th>Delivery Agent ID</th>\n",
       "      <th>Shift</th>\n",
       "      <th>Unsuccessful_Attempts</th>\n",
       "      <th>Process_Deviations</th>\n",
       "      <th>Delivered</th>\n",
       "      <th>Customer_Rejects</th>\n",
       "      <th>Picked_up_Customer_Returns</th>\n",
       "      <th>Picked up_Seller</th>\n",
       "      <th>billing_amt</th>\n",
       "      <th>Total Assigned</th>\n",
       "      <th>Productivity</th>\n",
       "      <th>Productivity Category</th>\n",
       "      <th>No. of Shifts Worked</th>\n",
       "    </tr>\n",
       "  </thead>\n",
       "  <tbody>\n",
       "    <tr>\n",
       "      <th>0</th>\n",
       "      <td>Site_22</td>\n",
       "      <td>HYDERABAD</td>\n",
       "      <td>Bike</td>\n",
       "      <td>4.0</td>\n",
       "      <td>2023-06-27</td>\n",
       "      <td>DA_280</td>\n",
       "      <td>A</td>\n",
       "      <td>0.0</td>\n",
       "      <td>0.0</td>\n",
       "      <td>3.0</td>\n",
       "      <td>1.0</td>\n",
       "      <td>26.0</td>\n",
       "      <td>0.0</td>\n",
       "      <td>955.0</td>\n",
       "      <td>30.0</td>\n",
       "      <td>30.0</td>\n",
       "      <td>productivity-ok</td>\n",
       "      <td>24</td>\n",
       "    </tr>\n",
       "  </tbody>\n",
       "</table>\n",
       "</div>"
      ],
      "text/plain": [
       "  Site Code       city Vehicle_type  cluster       Date Delivery Agent ID  \\\n",
       "0   Site_22  HYDERABAD         Bike      4.0 2023-06-27            DA_280   \n",
       "\n",
       "  Shift  Unsuccessful_Attempts  Process_Deviations  Delivered  \\\n",
       "0     A                    0.0                 0.0        3.0   \n",
       "\n",
       "   Customer_Rejects  Picked_up_Customer_Returns  Picked up_Seller  \\\n",
       "0               1.0                        26.0               0.0   \n",
       "\n",
       "   billing_amt  Total Assigned  Productivity Productivity Category  \\\n",
       "0        955.0            30.0          30.0       productivity-ok   \n",
       "\n",
       "   No. of Shifts Worked  \n",
       "0                    24  "
      ]
     },
     "execution_count": 40,
     "metadata": {},
     "output_type": "execute_result"
    }
   ],
   "source": [
    "daily_df.head(1)"
   ]
  },
  {
   "cell_type": "code",
   "execution_count": null,
   "metadata": {
    "id": "J4NZ3LK9Y4rF"
   },
   "outputs": [],
   "source": []
  },
  {
   "cell_type": "code",
   "execution_count": 41,
   "metadata": {
    "id": "wz-1S4DxYx15"
   },
   "outputs": [],
   "source": [
    "# Calculate average productivity per shift\n",
    "monthly_df['Avg_Productivity'] = round((monthly_df['Productivity'] / monthly_df['No. of Shifts Worked']), 0).astype(int)"
   ]
  },
  {
   "cell_type": "code",
   "execution_count": 42,
   "metadata": {
    "id": "Mnz-QF8GYx16"
   },
   "outputs": [],
   "source": [
    "# Calculate the average number of deviations per shift worked\n",
    "monthly_df['Avg_Deviations'] = (monthly_df['Unsuccessful_Attempts'] / monthly_df['No. of Shifts Worked']).round(2)"
   ]
  },
  {
   "cell_type": "code",
   "execution_count": 43,
   "metadata": {
    "colab": {
     "base_uri": "https://localhost:8080/",
     "height": 261
    },
    "id": "eKWdTZ69Yx16",
    "outputId": "436e590d-165a-4c3c-887d-127a48207660"
   },
   "outputs": [
    {
     "data": {
      "text/html": [
       "<div>\n",
       "<style scoped>\n",
       "    .dataframe tbody tr th:only-of-type {\n",
       "        vertical-align: middle;\n",
       "    }\n",
       "\n",
       "    .dataframe tbody tr th {\n",
       "        vertical-align: top;\n",
       "    }\n",
       "\n",
       "    .dataframe thead th {\n",
       "        text-align: right;\n",
       "    }\n",
       "</style>\n",
       "<table border=\"1\" class=\"dataframe\">\n",
       "  <thead>\n",
       "    <tr style=\"text-align: right;\">\n",
       "      <th></th>\n",
       "      <th>Delivery Agent ID</th>\n",
       "      <th>Vehicle_type</th>\n",
       "      <th>cluster</th>\n",
       "      <th>city</th>\n",
       "      <th>Site Code</th>\n",
       "      <th>No. of Shifts Worked</th>\n",
       "      <th>Total Assigned</th>\n",
       "      <th>Unsuccessful_Attempts</th>\n",
       "      <th>Process_Deviations</th>\n",
       "      <th>Productivity</th>\n",
       "      <th>billing_amt</th>\n",
       "      <th>DSR</th>\n",
       "      <th>Avg_Productivity</th>\n",
       "      <th>Avg_Deviations</th>\n",
       "    </tr>\n",
       "  </thead>\n",
       "  <tbody>\n",
       "    <tr>\n",
       "      <th>0</th>\n",
       "      <td>DA_1</td>\n",
       "      <td>Bike</td>\n",
       "      <td>6.0</td>\n",
       "      <td>DELHI</td>\n",
       "      <td>Site_29</td>\n",
       "      <td>22</td>\n",
       "      <td>58.0</td>\n",
       "      <td>0.0</td>\n",
       "      <td>0.0</td>\n",
       "      <td>56.0</td>\n",
       "      <td>1132.0</td>\n",
       "      <td>0.97</td>\n",
       "      <td>3</td>\n",
       "      <td>0.00</td>\n",
       "    </tr>\n",
       "    <tr>\n",
       "      <th>1</th>\n",
       "      <td>DA_10</td>\n",
       "      <td>Van DCD</td>\n",
       "      <td>4.0</td>\n",
       "      <td>BANGALORE</td>\n",
       "      <td>Site_3</td>\n",
       "      <td>15</td>\n",
       "      <td>29.0</td>\n",
       "      <td>4.0</td>\n",
       "      <td>0.0</td>\n",
       "      <td>24.0</td>\n",
       "      <td>1433.0</td>\n",
       "      <td>0.83</td>\n",
       "      <td>2</td>\n",
       "      <td>0.27</td>\n",
       "    </tr>\n",
       "    <tr>\n",
       "      <th>2</th>\n",
       "      <td>DA_100</td>\n",
       "      <td>Bike</td>\n",
       "      <td>4.0</td>\n",
       "      <td>HYDERABAD</td>\n",
       "      <td>Site_19</td>\n",
       "      <td>3</td>\n",
       "      <td>32.0</td>\n",
       "      <td>0.0</td>\n",
       "      <td>0.0</td>\n",
       "      <td>32.0</td>\n",
       "      <td>959.0</td>\n",
       "      <td>1.00</td>\n",
       "      <td>11</td>\n",
       "      <td>0.00</td>\n",
       "    </tr>\n",
       "    <tr>\n",
       "      <th>3</th>\n",
       "      <td>DA_101</td>\n",
       "      <td>Van DCD</td>\n",
       "      <td>4.0</td>\n",
       "      <td>HYDERABAD</td>\n",
       "      <td>Site_19</td>\n",
       "      <td>22</td>\n",
       "      <td>71.0</td>\n",
       "      <td>4.0</td>\n",
       "      <td>0.0</td>\n",
       "      <td>69.0</td>\n",
       "      <td>2015.0</td>\n",
       "      <td>0.97</td>\n",
       "      <td>3</td>\n",
       "      <td>0.18</td>\n",
       "    </tr>\n",
       "    <tr>\n",
       "      <th>4</th>\n",
       "      <td>DA_102</td>\n",
       "      <td>Bike</td>\n",
       "      <td>4.0</td>\n",
       "      <td>HYDERABAD</td>\n",
       "      <td>Site_22</td>\n",
       "      <td>25</td>\n",
       "      <td>40.0</td>\n",
       "      <td>0.0</td>\n",
       "      <td>0.0</td>\n",
       "      <td>40.0</td>\n",
       "      <td>975.0</td>\n",
       "      <td>1.00</td>\n",
       "      <td>2</td>\n",
       "      <td>0.00</td>\n",
       "    </tr>\n",
       "  </tbody>\n",
       "</table>\n",
       "</div>"
      ],
      "text/plain": [
       "  Delivery Agent ID Vehicle_type  cluster       city Site Code  \\\n",
       "0              DA_1         Bike      6.0      DELHI   Site_29   \n",
       "1             DA_10      Van DCD      4.0  BANGALORE    Site_3   \n",
       "2            DA_100         Bike      4.0  HYDERABAD   Site_19   \n",
       "3            DA_101      Van DCD      4.0  HYDERABAD   Site_19   \n",
       "4            DA_102         Bike      4.0  HYDERABAD   Site_22   \n",
       "\n",
       "   No. of Shifts Worked  Total Assigned  Unsuccessful_Attempts  \\\n",
       "0                    22            58.0                    0.0   \n",
       "1                    15            29.0                    4.0   \n",
       "2                     3            32.0                    0.0   \n",
       "3                    22            71.0                    4.0   \n",
       "4                    25            40.0                    0.0   \n",
       "\n",
       "   Process_Deviations  Productivity  billing_amt   DSR  Avg_Productivity  \\\n",
       "0                 0.0          56.0       1132.0  0.97                 3   \n",
       "1                 0.0          24.0       1433.0  0.83                 2   \n",
       "2                 0.0          32.0        959.0  1.00                11   \n",
       "3                 0.0          69.0       2015.0  0.97                 3   \n",
       "4                 0.0          40.0        975.0  1.00                 2   \n",
       "\n",
       "   Avg_Deviations  \n",
       "0            0.00  \n",
       "1            0.27  \n",
       "2            0.00  \n",
       "3            0.18  \n",
       "4            0.00  "
      ]
     },
     "execution_count": 43,
     "metadata": {},
     "output_type": "execute_result"
    }
   ],
   "source": [
    "monthly_df.head()"
   ]
  },
  {
   "cell_type": "markdown",
   "metadata": {
    "id": "MAOJ_Jg8MvGc"
   },
   "source": [
    "**Part D:**\n",
    "\n",
    "Examine the distributions of the features in the monthly_df in both forms - tabular and plotted.\n",
    "\n",
    "All columns that contain categorical information (data that has no ordinal value) should be shown as bar graphs. All columns that contain numerical data (data with ordinal value) should be shown as distribution curves or histograms."
   ]
  },
  {
   "cell_type": "code",
   "execution_count": 44,
   "metadata": {
    "id": "K8hC50fqWGPn"
   },
   "outputs": [],
   "source": [
    "# Separating the categorical and numerical columns\n",
    "cat_col = monthly_df.dtypes[monthly_df.dtypes == 'object'].index.tolist()\n",
    "num_col = monthly_df.dtypes[monthly_df.dtypes != 'object'].index.tolist()"
   ]
  },
  {
   "cell_type": "code",
   "execution_count": 45,
   "metadata": {
    "colab": {
     "base_uri": "https://localhost:8080/"
    },
    "id": "E8aNaG20Ml2B",
    "outputId": "5dcf6a97-63f7-4dd1-d8ab-eb951ca3926b"
   },
   "outputs": [
    {
     "name": "stdout",
     "output_type": "stream",
     "text": [
      "['Delivery Agent ID', 'Vehicle_type', 'city', 'Site Code']\n"
     ]
    }
   ],
   "source": [
    "# Display the Categorical Columns\n",
    "print(cat_col)"
   ]
  },
  {
   "cell_type": "code",
   "execution_count": 46,
   "metadata": {
    "colab": {
     "base_uri": "https://localhost:8080/"
    },
    "id": "ZIF_21glTqpt",
    "outputId": "e7feb6b9-02e5-4c7d-a001-2a602af9c804"
   },
   "outputs": [
    {
     "name": "stdout",
     "output_type": "stream",
     "text": [
      "['cluster', 'No. of Shifts Worked', 'Total Assigned', 'Unsuccessful_Attempts', 'Process_Deviations', 'Productivity', 'billing_amt', 'DSR', 'Avg_Productivity', 'Avg_Deviations']\n"
     ]
    }
   ],
   "source": [
    "# Display the Numeircal Columns\n",
    "print(num_col)"
   ]
  },
  {
   "cell_type": "code",
   "execution_count": 47,
   "metadata": {
    "colab": {
     "base_uri": "https://localhost:8080/"
    },
    "id": "7xaYZMzlYx17",
    "outputId": "f929c533-3e16-4ba3-e41e-8626df8121f4"
   },
   "outputs": [
    {
     "name": "stdout",
     "output_type": "stream",
     "text": [
      "\n",
      "Categorical Column Distributions: \n",
      "Bike        385\n",
      "Van DCD     223\n",
      "Van D+DA     88\n",
      "Name: Vehicle_type, dtype: int64\n",
      "BANGALORE    294\n",
      "HYDERABAD    143\n",
      "MUMBAI       137\n",
      "DELHI         70\n",
      "THANE         23\n",
      "BHOPAL        22\n",
      "PUNE           5\n",
      "CHENNAI        2\n",
      "Name: city, dtype: int64\n",
      "Site_22    76\n",
      "Site_3     69\n",
      "Site_16    60\n",
      "Site_21    40\n",
      "Site_12    38\n",
      "Site_27    34\n",
      "Site_10    33\n",
      "Site_4     29\n",
      "Site_5     28\n",
      "Site_6     28\n",
      "Site_17    27\n",
      "Site_19    26\n",
      "Site_18    24\n",
      "Site_13    23\n",
      "Site_29    19\n",
      "Site_25    18\n",
      "Site_2     16\n",
      "Site_26    16\n",
      "Site_24    14\n",
      "Site_9     14\n",
      "Site_7     13\n",
      "Site_15    12\n",
      "Site_14    11\n",
      "Site_1      6\n",
      "Site_28     6\n",
      "Site_11     6\n",
      "Site_30     5\n",
      "Site_20     2\n",
      "Site_23     2\n",
      "Site_8      1\n",
      "Name: Site Code, dtype: int64\n"
     ]
    }
   ],
   "source": [
    "# Displaying tabular summaries for categorical columns\n",
    "categorical_columns = ['Vehicle_type', 'city', 'Site Code']\n",
    "print(\"\\nCategorical Column Distributions: \")\n",
    "for col in categorical_columns:\n",
    "    print(monthly_df[col].value_counts())"
   ]
  },
  {
   "cell_type": "code",
   "execution_count": 48,
   "metadata": {
    "colab": {
     "base_uri": "https://localhost:8080/",
     "height": 429
    },
    "id": "qtaFo_RrYx17",
    "outputId": "4532e0c0-acf6-40bc-c392-f91d0c6b4c73"
   },
   "outputs": [
    {
     "data": {
      "image/png": "[encoded data removed]",
      "text/plain": [
       "<Figure size 1500x500 with 3 Axes>"
      ]
     },
     "metadata": {},
     "output_type": "display_data"
    }
   ],
   "source": [
    "# Display bar graphs for categorical columns\n",
    "plt.figure(figsize=(15,5))\n",
    "for i, col in enumerate(categorical_columns, 1):\n",
    "    plt.subplot(1, len(categorical_columns), i)\n",
    "    sns.countplot(data=monthly_df, x=col)\n",
    "    plt.title(f'{col} Distribution')\n",
    "    plt.xticks(rotation=90)\n",
    "plt.show()"
   ]
  },
  {
   "cell_type": "code",
   "execution_count": 49,
   "metadata": {
    "colab": {
     "base_uri": "https://localhost:8080/"
    },
    "id": "Jeowvhx3Yx18",
    "outputId": "202af002-07ef-43c4-ef7f-63ff8cf413a8"
   },
   "outputs": [
    {
     "name": "stdout",
     "output_type": "stream",
     "text": [
      "\n",
      "Numerical Column Summaries: \n",
      "          cluster  No. of Shifts Worked  Total Assigned  \\\n",
      "count  696.000000            696.000000      696.000000   \n",
      "mean     4.041667             17.642241       39.981322   \n",
      "std      0.960959             39.266364       25.201426   \n",
      "min      1.000000              1.000000        0.000000   \n",
      "25%      4.000000              8.000000       24.000000   \n",
      "50%      4.000000             19.000000       31.000000   \n",
      "75%      4.000000             24.000000       49.000000   \n",
      "max      6.000000           1028.000000      259.000000   \n",
      "\n",
      "       Unsuccessful_Attempts  Process_Deviations  Productivity  billing_amt  \\\n",
      "count             696.000000          696.000000    696.000000   696.000000   \n",
      "mean                1.432471            0.288793     38.797414  1160.978448   \n",
      "std                 1.912784            4.137380     26.168256   573.267325   \n",
      "min                 0.000000            0.000000      0.000000     0.000000   \n",
      "25%                 0.000000            0.000000     22.000000   598.000000   \n",
      "50%                 1.000000            0.000000     30.000000   967.000000   \n",
      "75%                 2.000000            0.000000     48.000000  1560.500000   \n",
      "max                18.000000           86.000000    259.000000  3113.000000   \n",
      "\n",
      "              DSR  Avg_Productivity  Avg_Deviations  \n",
      "count  695.000000        696.000000      696.000000  \n",
      "mean     1.294806          4.955460        0.247011  \n",
      "std      6.024898          9.426552        0.970037  \n",
      "min      0.030000          0.000000        0.000000  \n",
      "25%      0.865000          1.000000        0.000000  \n",
      "50%      0.950000          2.000000        0.040000  \n",
      "75%      1.000000          4.000000        0.170000  \n",
      "max    138.000000        106.000000       18.000000  \n"
     ]
    }
   ],
   "source": [
    "# Display tabular summaries for numerical columns\n",
    "numerical_columns = ['cluster', 'No. of Shifts Worked', 'Total Assigned', 'Unsuccessful_Attempts',\n",
    "                     'Process_Deviations', 'Productivity', 'billing_amt', 'DSR', 'Avg_Productivity', 'Avg_Deviations']\n",
    "\n",
    "print(\"\\nNumerical Column Summaries: \")\n",
    "print(monthly_df[numerical_columns].describe())"
   ]
  },
  {
   "cell_type": "code",
   "execution_count": 50,
   "metadata": {
    "colab": {
     "base_uri": "https://localhost:8080/",
     "height": 1000
    },
    "id": "l8DpdA5pYx18",
    "outputId": "8ca2b857-d8da-4d31-f8ef-b7d7ece37e46",
    "scrolled": true
   },
   "outputs": [
    {
     "data": {
      "image/png": "[encoded data removed]",
      "text/plain": [
       "<Figure size 800x500 with 1 Axes>"
      ]
     },
     "metadata": {},
     "output_type": "display_data"
    },
    {
     "data": {
      "image/png": "[encoded data removed]",
      "text/plain": [
       "<Figure size 800x500 with 1 Axes>"
      ]
     },
     "metadata": {},
     "output_type": "display_data"
    },
    {
     "data": {
      "image/png": "[encoded data removed]",
      "text/plain": [
       "<Figure size 800x500 with 1 Axes>"
      ]
     },
     "metadata": {},
     "output_type": "display_data"
    },
    {
     "data": {
      "image/png": "[encoded data removed]",
      "text/plain": [
       "<Figure size 800x500 with 1 Axes>"
      ]
     },
     "metadata": {},
     "output_type": "display_data"
    },
    {
     "data": {
      "image/png": "[encoded data removed]",
      "text/plain": [
       "<Figure size 800x500 with 1 Axes>"
      ]
     },
     "metadata": {},
     "output_type": "display_data"
    },
    {
     "data": {
      "image/png": "[encoded data removed]",
      "text/plain": [
       "<Figure size 800x500 with 1 Axes>"
      ]
     },
     "metadata": {},
     "output_type": "display_data"
    },
    {
     "data": {
      "image/png": "[encoded data removed]",
      "text/plain": [
       "<Figure size 800x500 with 1 Axes>"
      ]
     },
     "metadata": {},
     "output_type": "display_data"
    },
    {
     "data": {
      "image/png": "[encoded data removed]",
      "text/plain": [
       "<Figure size 800x500 with 1 Axes>"
      ]
     },
     "metadata": {},
     "output_type": "display_data"
    },
    {
     "data": {
      "image/png": "[encoded data removed]",
      "text/plain": [
       "<Figure size 800x500 with 1 Axes>"
      ]
     },
     "metadata": {},
     "output_type": "display_data"
    },
    {
     "data": {
      "image/png": "[encoded data removed]",
      "text/plain": [
       "<Figure size 800x500 with 1 Axes>"
      ]
     },
     "metadata": {},
     "output_type": "display_data"
    }
   ],
   "source": [
    "# Display histograms for numerical columns\n",
    "for col in numerical_columns:\n",
    "    plt.figure(figsize=(8,5))\n",
    "    sns.histplot(data=monthly_df, x=col, kde=True)\n",
    "    plt.title(f'{col} Distribution')\n",
    "    plt.xlabel(col)\n",
    "    plt.ylabel('Frequency')\n",
    "    plt.show()"
   ]
  },
  {
   "cell_type": "markdown",
   "metadata": {
    "id": "3wo17NYMvmYE"
   },
   "source": [
    "***Explain briefly what you have observed about the distributions of the variables.***"
   ]
  },
  {
   "cell_type": "markdown",
   "metadata": {
    "id": "fwP8H0LkYx18"
   },
   "source": [
    "There are a number of observations that comes out of the following analysis:"
   ]
  },
  {
   "cell_type": "markdown",
   "metadata": {
    "id": "okn95mw_Yx18"
   },
   "source": [
    "For Categorical Variables:\n",
    "\n",
    "- In Vehicle_type, 'Bike' has been used for the highest number of deliveries. This means that the delivery agents frequently uses bikes over any other vehicle for deliveries.\n",
    "\n",
    "- Looking over the City data, we find that the most number of ordered products are delivered in 'BANGALORE' followed by 'MUMBAI' & 'HYDERABAD' and 'CHENNAI' has the least number of orders placed.\n",
    "\n",
    "- Continuing with the City data, we find that the Site Code 'Site_22' in Bangalore has the highest number of deliveries done."
   ]
  },
  {
   "cell_type": "markdown",
   "metadata": {
    "id": "UBgGKk0bvw_3"
   },
   "source": [
    "For Numerical Data:\n",
    "\n",
    "- In the 'Cluster' Distribution, the cluster number 4 is the highest.\n",
    "- In the 'No. of Shifts Worked Distribution', 0-20 is the most number of delivery agents worked.\n",
    "- Total Assigned number of Packages between 0-50 is the highest.\n",
    "- The number of Unsuccessful Attempts is 0.\n",
    "- Process Deviations had the highest frequency range 750.\n",
    "- Productivity Distribution between 0-50 were the highest.\n",
    "- The highest billing amount for frequent deliveries was 500.\n",
    "- The Delivery Success Rate was constant for most deliveries.\n",
    "- The Average Productivity Distribution was highest between 0-20 and the highest frequency crossed 200.\n",
    "- The Average Deviations Distribution was highest at 0.0 and the highest frequency crossed 300."
   ]
  },
  {
   "cell_type": "markdown",
   "metadata": {
    "id": "1W0UihJCanp1"
   },
   "source": [
    "**Part-E**\n",
    "\n",
    "Now that you have understood the distributions of the data in the monthly_df, you need to:\n",
    "\n",
    "1.   Classify each agent on the basis of their DSR as either \"DSR-ok\" or \"DSR-low\"\n",
    "2.   Classify each agent on the basis of the number of deviations they've had as either \"deviations-ok\" or \"deviations-high\"\n",
    "\n",
    "This classification should be represented in two new columns in the monthly_df called \"DSR Category\" and \"Deviations Category\"\n",
    "\n",
    "Note that DSR and Deviations are comparable across all vehicle types, all shifts and all geographical areas. For example - there is no valid reason for vans in Mumbai to have lower DSR or higher deviations when compared to bikes in Hyderabad or Banagalore or Pune. The same benchmark of quality applies to all vehicle types working all shifts in all cities.  \n",
    "\n",
    "Once again, you are not being given any explicit thresholds to use for this classification. You are expected to use your analysis to decide the thresholds.\n",
    "\n",
    "An effective solution would be one which identifies a smaller group of people that contribute to the largest part of the problem.\n"
   ]
  },
  {
   "cell_type": "code",
   "execution_count": 51,
   "metadata": {
    "colab": {
     "base_uri": "https://localhost:8080/",
     "height": 135
    },
    "id": "dEYK2cAJvw4D",
    "outputId": "b694bd3a-0e19-4b4b-fdce-a4acdc77f19a"
   },
   "outputs": [
    {
     "data": {
      "text/html": [
       "<div>\n",
       "<style scoped>\n",
       "    .dataframe tbody tr th:only-of-type {\n",
       "        vertical-align: middle;\n",
       "    }\n",
       "\n",
       "    .dataframe tbody tr th {\n",
       "        vertical-align: top;\n",
       "    }\n",
       "\n",
       "    .dataframe thead th {\n",
       "        text-align: right;\n",
       "    }\n",
       "</style>\n",
       "<table border=\"1\" class=\"dataframe\">\n",
       "  <thead>\n",
       "    <tr style=\"text-align: right;\">\n",
       "      <th></th>\n",
       "      <th>Delivery Agent ID</th>\n",
       "      <th>Vehicle_type</th>\n",
       "      <th>cluster</th>\n",
       "      <th>city</th>\n",
       "      <th>Site Code</th>\n",
       "      <th>No. of Shifts Worked</th>\n",
       "      <th>Total Assigned</th>\n",
       "      <th>Unsuccessful_Attempts</th>\n",
       "      <th>Process_Deviations</th>\n",
       "      <th>Productivity</th>\n",
       "      <th>billing_amt</th>\n",
       "      <th>DSR</th>\n",
       "      <th>Avg_Productivity</th>\n",
       "      <th>Avg_Deviations</th>\n",
       "    </tr>\n",
       "  </thead>\n",
       "  <tbody>\n",
       "    <tr>\n",
       "      <th>0</th>\n",
       "      <td>DA_1</td>\n",
       "      <td>Bike</td>\n",
       "      <td>6.0</td>\n",
       "      <td>DELHI</td>\n",
       "      <td>Site_29</td>\n",
       "      <td>22</td>\n",
       "      <td>58.0</td>\n",
       "      <td>0.0</td>\n",
       "      <td>0.0</td>\n",
       "      <td>56.0</td>\n",
       "      <td>1132.0</td>\n",
       "      <td>0.97</td>\n",
       "      <td>3</td>\n",
       "      <td>0.0</td>\n",
       "    </tr>\n",
       "  </tbody>\n",
       "</table>\n",
       "</div>"
      ],
      "text/plain": [
       "  Delivery Agent ID Vehicle_type  cluster   city Site Code  \\\n",
       "0              DA_1         Bike      6.0  DELHI   Site_29   \n",
       "\n",
       "   No. of Shifts Worked  Total Assigned  Unsuccessful_Attempts  \\\n",
       "0                    22            58.0                    0.0   \n",
       "\n",
       "   Process_Deviations  Productivity  billing_amt   DSR  Avg_Productivity  \\\n",
       "0                 0.0          56.0       1132.0  0.97                 3   \n",
       "\n",
       "   Avg_Deviations  \n",
       "0             0.0  "
      ]
     },
     "execution_count": 51,
     "metadata": {},
     "output_type": "execute_result"
    }
   ],
   "source": [
    "monthly_df.head(1)"
   ]
  },
  {
   "cell_type": "code",
   "execution_count": 52,
   "metadata": {
    "colab": {
     "base_uri": "https://localhost:8080/",
     "height": 355
    },
    "id": "0Qg5uAOOvw6a",
    "outputId": "ed4d3d1b-9523-4d5a-ddbb-473d2d98d81b"
   },
   "outputs": [
    {
     "data": {
      "text/html": [
       "<div>\n",
       "<style scoped>\n",
       "    .dataframe tbody tr th:only-of-type {\n",
       "        vertical-align: middle;\n",
       "    }\n",
       "\n",
       "    .dataframe tbody tr th {\n",
       "        vertical-align: top;\n",
       "    }\n",
       "\n",
       "    .dataframe thead th {\n",
       "        text-align: right;\n",
       "    }\n",
       "</style>\n",
       "<table border=\"1\" class=\"dataframe\">\n",
       "  <thead>\n",
       "    <tr style=\"text-align: right;\">\n",
       "      <th></th>\n",
       "      <th>cluster</th>\n",
       "      <th>No. of Shifts Worked</th>\n",
       "      <th>Total Assigned</th>\n",
       "      <th>Unsuccessful_Attempts</th>\n",
       "      <th>Process_Deviations</th>\n",
       "      <th>Productivity</th>\n",
       "      <th>billing_amt</th>\n",
       "      <th>DSR</th>\n",
       "      <th>Avg_Productivity</th>\n",
       "      <th>Avg_Deviations</th>\n",
       "    </tr>\n",
       "  </thead>\n",
       "  <tbody>\n",
       "    <tr>\n",
       "      <th>count</th>\n",
       "      <td>696.000000</td>\n",
       "      <td>696.000000</td>\n",
       "      <td>696.000000</td>\n",
       "      <td>696.000000</td>\n",
       "      <td>696.000000</td>\n",
       "      <td>696.000000</td>\n",
       "      <td>696.000000</td>\n",
       "      <td>695.000000</td>\n",
       "      <td>696.000000</td>\n",
       "      <td>696.000000</td>\n",
       "    </tr>\n",
       "    <tr>\n",
       "      <th>mean</th>\n",
       "      <td>4.041667</td>\n",
       "      <td>17.642241</td>\n",
       "      <td>39.981322</td>\n",
       "      <td>1.432471</td>\n",
       "      <td>0.288793</td>\n",
       "      <td>38.797414</td>\n",
       "      <td>1160.978448</td>\n",
       "      <td>1.294806</td>\n",
       "      <td>4.955460</td>\n",
       "      <td>0.247011</td>\n",
       "    </tr>\n",
       "    <tr>\n",
       "      <th>std</th>\n",
       "      <td>0.960959</td>\n",
       "      <td>39.266364</td>\n",
       "      <td>25.201426</td>\n",
       "      <td>1.912784</td>\n",
       "      <td>4.137380</td>\n",
       "      <td>26.168256</td>\n",
       "      <td>573.267325</td>\n",
       "      <td>6.024898</td>\n",
       "      <td>9.426552</td>\n",
       "      <td>0.970037</td>\n",
       "    </tr>\n",
       "    <tr>\n",
       "      <th>min</th>\n",
       "      <td>1.000000</td>\n",
       "      <td>1.000000</td>\n",
       "      <td>0.000000</td>\n",
       "      <td>0.000000</td>\n",
       "      <td>0.000000</td>\n",
       "      <td>0.000000</td>\n",
       "      <td>0.000000</td>\n",
       "      <td>0.030000</td>\n",
       "      <td>0.000000</td>\n",
       "      <td>0.000000</td>\n",
       "    </tr>\n",
       "    <tr>\n",
       "      <th>25%</th>\n",
       "      <td>4.000000</td>\n",
       "      <td>8.000000</td>\n",
       "      <td>24.000000</td>\n",
       "      <td>0.000000</td>\n",
       "      <td>0.000000</td>\n",
       "      <td>22.000000</td>\n",
       "      <td>598.000000</td>\n",
       "      <td>0.865000</td>\n",
       "      <td>1.000000</td>\n",
       "      <td>0.000000</td>\n",
       "    </tr>\n",
       "    <tr>\n",
       "      <th>50%</th>\n",
       "      <td>4.000000</td>\n",
       "      <td>19.000000</td>\n",
       "      <td>31.000000</td>\n",
       "      <td>1.000000</td>\n",
       "      <td>0.000000</td>\n",
       "      <td>30.000000</td>\n",
       "      <td>967.000000</td>\n",
       "      <td>0.950000</td>\n",
       "      <td>2.000000</td>\n",
       "      <td>0.040000</td>\n",
       "    </tr>\n",
       "    <tr>\n",
       "      <th>75%</th>\n",
       "      <td>4.000000</td>\n",
       "      <td>24.000000</td>\n",
       "      <td>49.000000</td>\n",
       "      <td>2.000000</td>\n",
       "      <td>0.000000</td>\n",
       "      <td>48.000000</td>\n",
       "      <td>1560.500000</td>\n",
       "      <td>1.000000</td>\n",
       "      <td>4.000000</td>\n",
       "      <td>0.170000</td>\n",
       "    </tr>\n",
       "    <tr>\n",
       "      <th>max</th>\n",
       "      <td>6.000000</td>\n",
       "      <td>1028.000000</td>\n",
       "      <td>259.000000</td>\n",
       "      <td>18.000000</td>\n",
       "      <td>86.000000</td>\n",
       "      <td>259.000000</td>\n",
       "      <td>3113.000000</td>\n",
       "      <td>138.000000</td>\n",
       "      <td>106.000000</td>\n",
       "      <td>18.000000</td>\n",
       "    </tr>\n",
       "  </tbody>\n",
       "</table>\n",
       "</div>"
      ],
      "text/plain": [
       "          cluster  No. of Shifts Worked  Total Assigned  \\\n",
       "count  696.000000            696.000000      696.000000   \n",
       "mean     4.041667             17.642241       39.981322   \n",
       "std      0.960959             39.266364       25.201426   \n",
       "min      1.000000              1.000000        0.000000   \n",
       "25%      4.000000              8.000000       24.000000   \n",
       "50%      4.000000             19.000000       31.000000   \n",
       "75%      4.000000             24.000000       49.000000   \n",
       "max      6.000000           1028.000000      259.000000   \n",
       "\n",
       "       Unsuccessful_Attempts  Process_Deviations  Productivity  billing_amt  \\\n",
       "count             696.000000          696.000000    696.000000   696.000000   \n",
       "mean                1.432471            0.288793     38.797414  1160.978448   \n",
       "std                 1.912784            4.137380     26.168256   573.267325   \n",
       "min                 0.000000            0.000000      0.000000     0.000000   \n",
       "25%                 0.000000            0.000000     22.000000   598.000000   \n",
       "50%                 1.000000            0.000000     30.000000   967.000000   \n",
       "75%                 2.000000            0.000000     48.000000  1560.500000   \n",
       "max                18.000000           86.000000    259.000000  3113.000000   \n",
       "\n",
       "              DSR  Avg_Productivity  Avg_Deviations  \n",
       "count  695.000000        696.000000      696.000000  \n",
       "mean     1.294806          4.955460        0.247011  \n",
       "std      6.024898          9.426552        0.970037  \n",
       "min      0.030000          0.000000        0.000000  \n",
       "25%      0.865000          1.000000        0.000000  \n",
       "50%      0.950000          2.000000        0.040000  \n",
       "75%      1.000000          4.000000        0.170000  \n",
       "max    138.000000        106.000000       18.000000  "
      ]
     },
     "execution_count": 52,
     "metadata": {},
     "output_type": "execute_result"
    }
   ],
   "source": [
    "monthly_df.describe()"
   ]
  },
  {
   "cell_type": "code",
   "execution_count": 53,
   "metadata": {
    "id": "pXiJBRNscdQB"
   },
   "outputs": [],
   "source": [
    "# Calculating the percentiles for DSR and Deviations\n",
    "\n",
    "dsr_threshold = monthly_df['DSR'].quantile(0.25)\n",
    "deviations_threshold = monthly_df['Avg_Deviations'].quantile(0.75)"
   ]
  },
  {
   "cell_type": "code",
   "execution_count": 54,
   "metadata": {
    "id": "6Ono5inIv6SG"
   },
   "outputs": [],
   "source": [
    "# Classifying the delivery agents based on DSR\n",
    "\n",
    "monthly_df['DSR Category'] = 'DSR-ok'\n",
    "monthly_df.loc[monthly_df['DSR'] < dsr_threshold, 'DSR Category'] = 'DSR-low'"
   ]
  },
  {
   "cell_type": "code",
   "execution_count": 55,
   "metadata": {
    "id": "XQ9CWne2v6Pw"
   },
   "outputs": [],
   "source": [
    "# Classify the delivery agents based on Deviations\n",
    "\n",
    "monthly_df['Deviations Category'] = 'deviations-ok'\n",
    "monthly_df.loc[monthly_df['Avg_Deviations'] > deviations_threshold, 'Deviations Category'] = 'deviations-high'"
   ]
  },
  {
   "cell_type": "code",
   "execution_count": 56,
   "metadata": {
    "colab": {
     "base_uri": "https://localhost:8080/",
     "height": 348
    },
    "id": "bFu6SOWfYx1_",
    "outputId": "1d5443d3-2fb5-4dca-b389-c843fa57f569"
   },
   "outputs": [
    {
     "data": {
      "text/html": [
       "<div>\n",
       "<style scoped>\n",
       "    .dataframe tbody tr th:only-of-type {\n",
       "        vertical-align: middle;\n",
       "    }\n",
       "\n",
       "    .dataframe tbody tr th {\n",
       "        vertical-align: top;\n",
       "    }\n",
       "\n",
       "    .dataframe thead th {\n",
       "        text-align: right;\n",
       "    }\n",
       "</style>\n",
       "<table border=\"1\" class=\"dataframe\">\n",
       "  <thead>\n",
       "    <tr style=\"text-align: right;\">\n",
       "      <th></th>\n",
       "      <th>Delivery Agent ID</th>\n",
       "      <th>Vehicle_type</th>\n",
       "      <th>cluster</th>\n",
       "      <th>city</th>\n",
       "      <th>Site Code</th>\n",
       "      <th>No. of Shifts Worked</th>\n",
       "      <th>Total Assigned</th>\n",
       "      <th>Unsuccessful_Attempts</th>\n",
       "      <th>Process_Deviations</th>\n",
       "      <th>Productivity</th>\n",
       "      <th>billing_amt</th>\n",
       "      <th>DSR</th>\n",
       "      <th>Avg_Productivity</th>\n",
       "      <th>Avg_Deviations</th>\n",
       "      <th>DSR Category</th>\n",
       "      <th>Deviations Category</th>\n",
       "    </tr>\n",
       "  </thead>\n",
       "  <tbody>\n",
       "    <tr>\n",
       "      <th>0</th>\n",
       "      <td>DA_1</td>\n",
       "      <td>Bike</td>\n",
       "      <td>6.0</td>\n",
       "      <td>DELHI</td>\n",
       "      <td>Site_29</td>\n",
       "      <td>22</td>\n",
       "      <td>58.0</td>\n",
       "      <td>0.0</td>\n",
       "      <td>0.0</td>\n",
       "      <td>56.0</td>\n",
       "      <td>1132.0</td>\n",
       "      <td>0.97</td>\n",
       "      <td>3</td>\n",
       "      <td>0.00</td>\n",
       "      <td>DSR-ok</td>\n",
       "      <td>deviations-ok</td>\n",
       "    </tr>\n",
       "    <tr>\n",
       "      <th>1</th>\n",
       "      <td>DA_10</td>\n",
       "      <td>Van DCD</td>\n",
       "      <td>4.0</td>\n",
       "      <td>BANGALORE</td>\n",
       "      <td>Site_3</td>\n",
       "      <td>15</td>\n",
       "      <td>29.0</td>\n",
       "      <td>4.0</td>\n",
       "      <td>0.0</td>\n",
       "      <td>24.0</td>\n",
       "      <td>1433.0</td>\n",
       "      <td>0.83</td>\n",
       "      <td>2</td>\n",
       "      <td>0.27</td>\n",
       "      <td>DSR-low</td>\n",
       "      <td>deviations-high</td>\n",
       "    </tr>\n",
       "    <tr>\n",
       "      <th>2</th>\n",
       "      <td>DA_100</td>\n",
       "      <td>Bike</td>\n",
       "      <td>4.0</td>\n",
       "      <td>HYDERABAD</td>\n",
       "      <td>Site_19</td>\n",
       "      <td>3</td>\n",
       "      <td>32.0</td>\n",
       "      <td>0.0</td>\n",
       "      <td>0.0</td>\n",
       "      <td>32.0</td>\n",
       "      <td>959.0</td>\n",
       "      <td>1.00</td>\n",
       "      <td>11</td>\n",
       "      <td>0.00</td>\n",
       "      <td>DSR-ok</td>\n",
       "      <td>deviations-ok</td>\n",
       "    </tr>\n",
       "    <tr>\n",
       "      <th>3</th>\n",
       "      <td>DA_101</td>\n",
       "      <td>Van DCD</td>\n",
       "      <td>4.0</td>\n",
       "      <td>HYDERABAD</td>\n",
       "      <td>Site_19</td>\n",
       "      <td>22</td>\n",
       "      <td>71.0</td>\n",
       "      <td>4.0</td>\n",
       "      <td>0.0</td>\n",
       "      <td>69.0</td>\n",
       "      <td>2015.0</td>\n",
       "      <td>0.97</td>\n",
       "      <td>3</td>\n",
       "      <td>0.18</td>\n",
       "      <td>DSR-ok</td>\n",
       "      <td>deviations-high</td>\n",
       "    </tr>\n",
       "    <tr>\n",
       "      <th>4</th>\n",
       "      <td>DA_102</td>\n",
       "      <td>Bike</td>\n",
       "      <td>4.0</td>\n",
       "      <td>HYDERABAD</td>\n",
       "      <td>Site_22</td>\n",
       "      <td>25</td>\n",
       "      <td>40.0</td>\n",
       "      <td>0.0</td>\n",
       "      <td>0.0</td>\n",
       "      <td>40.0</td>\n",
       "      <td>975.0</td>\n",
       "      <td>1.00</td>\n",
       "      <td>2</td>\n",
       "      <td>0.00</td>\n",
       "      <td>DSR-ok</td>\n",
       "      <td>deviations-ok</td>\n",
       "    </tr>\n",
       "  </tbody>\n",
       "</table>\n",
       "</div>"
      ],
      "text/plain": [
       "  Delivery Agent ID Vehicle_type  cluster       city Site Code  \\\n",
       "0              DA_1         Bike      6.0      DELHI   Site_29   \n",
       "1             DA_10      Van DCD      4.0  BANGALORE    Site_3   \n",
       "2            DA_100         Bike      4.0  HYDERABAD   Site_19   \n",
       "3            DA_101      Van DCD      4.0  HYDERABAD   Site_19   \n",
       "4            DA_102         Bike      4.0  HYDERABAD   Site_22   \n",
       "\n",
       "   No. of Shifts Worked  Total Assigned  Unsuccessful_Attempts  \\\n",
       "0                    22            58.0                    0.0   \n",
       "1                    15            29.0                    4.0   \n",
       "2                     3            32.0                    0.0   \n",
       "3                    22            71.0                    4.0   \n",
       "4                    25            40.0                    0.0   \n",
       "\n",
       "   Process_Deviations  Productivity  billing_amt   DSR  Avg_Productivity  \\\n",
       "0                 0.0          56.0       1132.0  0.97                 3   \n",
       "1                 0.0          24.0       1433.0  0.83                 2   \n",
       "2                 0.0          32.0        959.0  1.00                11   \n",
       "3                 0.0          69.0       2015.0  0.97                 3   \n",
       "4                 0.0          40.0        975.0  1.00                 2   \n",
       "\n",
       "   Avg_Deviations DSR Category Deviations Category  \n",
       "0            0.00       DSR-ok       deviations-ok  \n",
       "1            0.27      DSR-low     deviations-high  \n",
       "2            0.00       DSR-ok       deviations-ok  \n",
       "3            0.18       DSR-ok     deviations-high  \n",
       "4            0.00       DSR-ok       deviations-ok  "
      ]
     },
     "execution_count": 56,
     "metadata": {},
     "output_type": "execute_result"
    }
   ],
   "source": [
    "monthly_df.head()"
   ]
  },
  {
   "cell_type": "markdown",
   "metadata": {
    "id": "UqzpbMimv6nb"
   },
   "source": [
    "***Explain briefly the logic you have used to solve the question above***"
   ]
  },
  {
   "cell_type": "markdown",
   "metadata": {
    "id": "ZY6uZcM3Yx2B"
   },
   "source": [
    "Certainly, the logic used to solve the problem statement involves classifying agents based on their DSR (Delivery Success Rate) and the number of deviations they have. The goal is to identify a smaller group of agents that contribute to a significant part of the problem."
   ]
  },
  {
   "cell_type": "markdown",
   "metadata": {
    "id": "sC-95q47wBy0"
   },
   "source": [
    "First of all, we calculated the percentiles because percentiles are used to determine thresholds for classifying agents. For DSR, a lower percentile (i.e., 25) was chosen, indicating a threshold below which agents are considered to have a lower DSR. For deviations, a higher percentile i.e., 75 was chosen, indicating a threshold above which agents are considered to have a high number of deviations."
   ]
  },
  {
   "cell_type": "markdown",
   "metadata": {
    "id": "orCIP5M7wBwa"
   },
   "source": [
    "- Agents are classified into two categories 'ok' and 'low' based on their DSR.\n",
    "- Agents with DSR below the chosen percentile threshold are classified as 'low', indicating a lower success rate in delivering assigned packages."
   ]
  },
  {
   "cell_type": "markdown",
   "metadata": {
    "id": "Zeo9oPcowBtw"
   },
   "source": [
    "- Agents are classified into two categories, 'ok' and 'high', based on the number of deviations.\n",
    "- Agents with a number of deviations above the chosen percentile threshold are classified as 'high', indicating a higher number of deviations from the standard process during their shifts."
   ]
  },
  {
   "cell_type": "markdown",
   "metadata": {
    "id": "WGPJUIoXYx2E"
   },
   "source": [
    "The classifications are based on percentiles, allowing for a relative assessment of agents' performance compared to their peers.\n",
    "\n",
    "\n",
    "By using percentiles and classifying agents ainto categories, this approach provides a way to focus on a smaller set of individuals who may need attention or improvement in their delivery performance."
   ]
  },
  {
   "cell_type": "markdown",
   "metadata": {
    "id": "XQy0-RDLpLUo"
   },
   "source": [
    "# Question 4"
   ]
  },
  {
   "cell_type": "markdown",
   "metadata": {
    "id": "cZ36x4wTpNyp"
   },
   "source": [
    "**Part-A**\n",
    "\n",
    "Create a new dataframe that shows the number of A, B, and C shifts each delivery agent has done in the whole month. Also include in a separate column the total number of low productivity shifts each delivery agent has had in the whole month. Call this new dataframe \"shifts_df\". Make sure that there are no nan values in the new dataframe.\n",
    "\n",
    "To be more clear, the new dataframe(shifts_df) should have the following columns:\n",
    "\n",
    "* Delivery Agent ID\n",
    "* Total no. of 'A' Shifts\n",
    "* Total no. of 'B' Shifts\n",
    "* Total no. of 'C' Shifts\n",
    "* Total no. of low productivity shifts"
   ]
  },
  {
   "cell_type": "code",
   "execution_count": 57,
   "metadata": {
    "colab": {
     "base_uri": "https://localhost:8080/"
    },
    "id": "C5L5oEiahDVm",
    "outputId": "2c5c1583-6f13-47a5-f858-78049749bcb9",
    "scrolled": true
   },
   "outputs": [
    {
     "name": "stdout",
     "output_type": "stream",
     "text": [
      "Index(['Site Code', 'city', 'Vehicle_type', 'cluster', 'Date',\n",
      "       'Delivery Agent ID', 'Shift', 'Unsuccessful_Attempts',\n",
      "       'Process_Deviations', 'Delivered', 'Customer_Rejects',\n",
      "       'Picked_up_Customer_Returns', 'Picked up_Seller', 'billing_amt',\n",
      "       'Total Assigned', 'Productivity', 'Productivity Category',\n",
      "       'No. of Shifts Worked'],\n",
      "      dtype='object')\n"
     ]
    }
   ],
   "source": [
    "print(daily_df.columns)"
   ]
  },
  {
   "cell_type": "code",
   "execution_count": 59,
   "metadata": {},
   "outputs": [],
   "source": [
    "# Filter out NaN values in 'Shift' and 'Productivity Category'\n",
    "\n",
    "filtered_df = daily_df.dropna(subset=['Shift', 'Productivity Category'])"
   ]
  },
  {
   "cell_type": "code",
   "execution_count": 60,
   "metadata": {},
   "outputs": [],
   "source": [
    "# Create a new Dataframe 'shifts_df'\n",
    "\n",
    "shifts_df = filtered_df.groupby(['Delivery Agent ID', 'Shift']).size().unstack(fill_value=0)"
   ]
  },
  {
   "cell_type": "code",
   "execution_count": 61,
   "metadata": {},
   "outputs": [],
   "source": [
    "# Add a column for total number of low productivity shifts\n",
    "shifts_df['Total no. of low productivity shifts'] = filtered_df[filtered_df['Productivity Category'] == 'productivity-low'].groupby('Delivery Agent ID')['Shift'].count()"
   ]
  },
  {
   "cell_type": "code",
   "execution_count": 64,
   "metadata": {
    "colab": {
     "base_uri": "https://localhost:8080/"
    },
    "id": "IlHkmNnNg_uZ",
    "outputId": "c067b099-4245-4c11-b91c-9ecb331560a2"
   },
   "outputs": [
    {
     "name": "stdout",
     "output_type": "stream",
     "text": [
      "Index(['Delivery Agent ID', 'A', 'B', 'C', 'nan',\n",
      "       'Total no. of low productivity shifts'],\n",
      "      dtype='object', name='Shift')\n"
     ]
    }
   ],
   "source": [
    "print(shifts_df.columns)"
   ]
  },
  {
   "cell_type": "code",
   "execution_count": 68,
   "metadata": {
    "colab": {
     "base_uri": "https://localhost:8080/"
    },
    "id": "kPRrMGXehnG3",
    "outputId": "5e585255-d3e1-4a2a-f481-29316efd9859",
    "scrolled": false
   },
   "outputs": [
    {
     "name": "stdout",
     "output_type": "stream",
     "text": [
      "Shift Delivery Agent ID  Total no. of A Shifts  Total no. of B Shifts  \\\n",
      "0                  DA_1                     13                      5   \n",
      "1                 DA_10                      8                      7   \n",
      "2                DA_100                      3                      0   \n",
      "3                DA_101                     21                      1   \n",
      "4                DA_102                     25                      0   \n",
      "..                  ...                    ...                    ...   \n",
      "691               DA_95                     23                      2   \n",
      "692               DA_96                     10                      4   \n",
      "693               DA_97                     22                      3   \n",
      "694               DA_98                      2                      0   \n",
      "695               DA_99                     10                      0   \n",
      "\n",
      "Shift  Total no. of C Shifts  nan  Total no. of low productivity shifts  \n",
      "0                          4    0                                1031.0  \n",
      "1                          0    0                                 690.0  \n",
      "2                          0    0                                 113.0  \n",
      "3                          0    0                                1372.0  \n",
      "4                          0    0                                 933.0  \n",
      "..                       ...  ...                                   ...  \n",
      "691                        1    0                                2032.0  \n",
      "692                        0    0                                 763.0  \n",
      "693                        0    0                                1475.0  \n",
      "694                        0    0                                 104.0  \n",
      "695                        6    0                                 630.0  \n",
      "\n",
      "[696 rows x 6 columns]\n"
     ]
    }
   ],
   "source": [
    "# ...\n",
    "\n",
    "# Continue with the rest of the code for creating the shifts_df DataFrame\n",
    "shifts_df = daily_df.pivot_table(index='Delivery Agent ID', columns='Shift', aggfunc='size', fill_value=0)\n",
    "shifts_df['Total Low Productivity'] = daily_df.groupby('Delivery Agent ID')['Productivity'].sum()\n",
    "shifts_df.reset_index(inplace=True)\n",
    "shifts_df.fillna(0, inplace=True)\n",
    "\n",
    "# Replace 'Total no. of 'A' Shifts', 'Total no. of 'B' Shifts', 'Total no. of 'C' Shifts', and 'Total no. of low productivity shifts'\n",
    "# with the actual column names you want in your DataFrame\n",
    "shifts_df = shifts_df.rename(columns={'A': 'Total no. of A Shifts',\n",
    "                                      'B': 'Total no. of B Shifts',\n",
    "                                      'C': 'Total no. of C Shifts',\n",
    "                                      'Total Low Productivity': 'Total no. of low productivity shifts'})\n",
    "\n",
    "# Display the resulting shifts_df DataFrame\n",
    "print(shifts_df)\n"
   ]
  },
  {
   "cell_type": "code",
   "execution_count": 67,
   "metadata": {},
   "outputs": [
    {
     "data": {
      "text/html": [
       "<div>\n",
       "<style scoped>\n",
       "    .dataframe tbody tr th:only-of-type {\n",
       "        vertical-align: middle;\n",
       "    }\n",
       "\n",
       "    .dataframe tbody tr th {\n",
       "        vertical-align: top;\n",
       "    }\n",
       "\n",
       "    .dataframe thead th {\n",
       "        text-align: right;\n",
       "    }\n",
       "</style>\n",
       "<table border=\"1\" class=\"dataframe\">\n",
       "  <thead>\n",
       "    <tr style=\"text-align: right;\">\n",
       "      <th>Shift</th>\n",
       "      <th>Delivery Agent ID</th>\n",
       "      <th>Total no. of A Shifts</th>\n",
       "      <th>Total no. of B Shifts</th>\n",
       "      <th>Total no. of C Shifts</th>\n",
       "      <th>Total no. of low productivity shifts</th>\n",
       "    </tr>\n",
       "  </thead>\n",
       "  <tbody>\n",
       "    <tr>\n",
       "      <th>0</th>\n",
       "      <td>DA_1</td>\n",
       "      <td>13</td>\n",
       "      <td>5</td>\n",
       "      <td>4</td>\n",
       "      <td>1031.0</td>\n",
       "    </tr>\n",
       "    <tr>\n",
       "      <th>1</th>\n",
       "      <td>DA_10</td>\n",
       "      <td>8</td>\n",
       "      <td>7</td>\n",
       "      <td>0</td>\n",
       "      <td>690.0</td>\n",
       "    </tr>\n",
       "    <tr>\n",
       "      <th>2</th>\n",
       "      <td>DA_100</td>\n",
       "      <td>3</td>\n",
       "      <td>0</td>\n",
       "      <td>0</td>\n",
       "      <td>113.0</td>\n",
       "    </tr>\n",
       "    <tr>\n",
       "      <th>3</th>\n",
       "      <td>DA_101</td>\n",
       "      <td>21</td>\n",
       "      <td>1</td>\n",
       "      <td>0</td>\n",
       "      <td>1372.0</td>\n",
       "    </tr>\n",
       "    <tr>\n",
       "      <th>4</th>\n",
       "      <td>DA_102</td>\n",
       "      <td>25</td>\n",
       "      <td>0</td>\n",
       "      <td>0</td>\n",
       "      <td>933.0</td>\n",
       "    </tr>\n",
       "    <tr>\n",
       "      <th>...</th>\n",
       "      <td>...</td>\n",
       "      <td>...</td>\n",
       "      <td>...</td>\n",
       "      <td>...</td>\n",
       "      <td>...</td>\n",
       "    </tr>\n",
       "    <tr>\n",
       "      <th>691</th>\n",
       "      <td>DA_95</td>\n",
       "      <td>23</td>\n",
       "      <td>2</td>\n",
       "      <td>1</td>\n",
       "      <td>2032.0</td>\n",
       "    </tr>\n",
       "    <tr>\n",
       "      <th>692</th>\n",
       "      <td>DA_96</td>\n",
       "      <td>10</td>\n",
       "      <td>4</td>\n",
       "      <td>0</td>\n",
       "      <td>763.0</td>\n",
       "    </tr>\n",
       "    <tr>\n",
       "      <th>693</th>\n",
       "      <td>DA_97</td>\n",
       "      <td>22</td>\n",
       "      <td>3</td>\n",
       "      <td>0</td>\n",
       "      <td>1475.0</td>\n",
       "    </tr>\n",
       "    <tr>\n",
       "      <th>694</th>\n",
       "      <td>DA_98</td>\n",
       "      <td>2</td>\n",
       "      <td>0</td>\n",
       "      <td>0</td>\n",
       "      <td>104.0</td>\n",
       "    </tr>\n",
       "    <tr>\n",
       "      <th>695</th>\n",
       "      <td>DA_99</td>\n",
       "      <td>10</td>\n",
       "      <td>0</td>\n",
       "      <td>6</td>\n",
       "      <td>630.0</td>\n",
       "    </tr>\n",
       "  </tbody>\n",
       "</table>\n",
       "<p>696 rows × 5 columns</p>\n",
       "</div>"
      ],
      "text/plain": [
       "Shift Delivery Agent ID  Total no. of A Shifts  Total no. of B Shifts  \\\n",
       "0                  DA_1                     13                      5   \n",
       "1                 DA_10                      8                      7   \n",
       "2                DA_100                      3                      0   \n",
       "3                DA_101                     21                      1   \n",
       "4                DA_102                     25                      0   \n",
       "..                  ...                    ...                    ...   \n",
       "691               DA_95                     23                      2   \n",
       "692               DA_96                     10                      4   \n",
       "693               DA_97                     22                      3   \n",
       "694               DA_98                      2                      0   \n",
       "695               DA_99                     10                      0   \n",
       "\n",
       "Shift  Total no. of C Shifts  Total no. of low productivity shifts  \n",
       "0                          4                                1031.0  \n",
       "1                          0                                 690.0  \n",
       "2                          0                                 113.0  \n",
       "3                          0                                1372.0  \n",
       "4                          0                                 933.0  \n",
       "..                       ...                                   ...  \n",
       "691                        1                                2032.0  \n",
       "692                        0                                 763.0  \n",
       "693                        0                                1475.0  \n",
       "694                        0                                 104.0  \n",
       "695                        6                                 630.0  \n",
       "\n",
       "[696 rows x 5 columns]"
      ]
     },
     "execution_count": 67,
     "metadata": {},
     "output_type": "execute_result"
    }
   ],
   "source": [
    "shifts_df.drop(['nan'], axis=1)"
   ]
  },
  {
   "cell_type": "markdown",
   "metadata": {
    "id": "ifObubPKxXBv"
   },
   "source": [
    "**Part B**\n",
    "\n",
    "Merge the monthly_df and the shifts_df so that all the features are in one single dataframe. Call this new dataframe \"final_df\".\n",
    "\n",
    "Then calculate and create a new column called \"%_low_prod_shifts\". For the values in this column divide the total number of low productivity shifts by the total no. of shifts worked and round the result to two decimal places."
   ]
  },
  {
   "cell_type": "code",
   "execution_count": null,
   "metadata": {
    "id": "DFS8UIDvwJNk"
   },
   "outputs": [],
   "source": []
  },
  {
   "cell_type": "code",
   "execution_count": null,
   "metadata": {
    "id": "2zm6dvIH1zs_"
   },
   "outputs": [],
   "source": []
  },
  {
   "cell_type": "markdown",
   "metadata": {
    "id": "tcPLOaKJdume"
   },
   "source": [
    "**Part C**\n",
    "\n",
    "Create three new columns - \"%_shifts_A\", \"%_shifts_b\", and \"%_shifts_C\".\n",
    "\n",
    "If a delivery agent worked a total of 10 shifts, and 5 out of them were Shift A, then \"%_shifts_A\" should be 0.5.\n",
    "\n",
    "All values in the new columns should be rounded to 2 decimal places."
   ]
  },
  {
   "cell_type": "code",
   "execution_count": null,
   "metadata": {
    "id": "hTPCqgfeeKim"
   },
   "outputs": [],
   "source": []
  },
  {
   "cell_type": "markdown",
   "metadata": {
    "id": "uYxgqsfgkqN8"
   },
   "source": [
    "# Question 5"
   ]
  },
  {
   "cell_type": "markdown",
   "metadata": {
    "id": "xdfdsGJnmUAv"
   },
   "source": [
    "**Part-A:**\n",
    "\n",
    "*Irregularity:*\n",
    "\n",
    "When we say a delivery agent is irregular to work, we mean that they were associated with us for a certain period, however, during this period they were absent frequently.\n",
    "\n",
    "For example - A delivery agent's first day of work was 5th June and the last day of work was 25th June. However during this period, the agent worked for only 10 out of the possible 20 days. We would then say that this delivery agent is \"irregular\".\n",
    "\n",
    "Let's look at another scenario where a delivery agent has worked for only 5 out of the possible 30 days in the whole month, and those 5 days are towards the end of the month, it probably means that they joined us late, and hence cannot be classified as \"irreguar\", and they should ideally be classified as \"new\"."
   ]
  },
  {
   "cell_type": "markdown",
   "metadata": {
    "id": "OP-_VkERoDjt"
   },
   "source": [
    "Keeping this context in mind, classify each delivery agent in the dataset as \"regular\" or \"irregular\" or \"new\". This classification should be shown in a new dataframe called \"regularity_df\". This new dataframe should contain only two columns - \"Delivery Agent ID\" and \"Regularity Classification\"\n",
    "\n",
    "In this question, we are not explicity prescribing the logic nor the threshold of working days to be used for this classification. You are expected to get creative and take a calculated decision on how to go about this."
   ]
  },
  {
   "cell_type": "code",
   "execution_count": null,
   "metadata": {
    "id": "3aOkD0ptpoot"
   },
   "outputs": [],
   "source": []
  },
  {
   "cell_type": "code",
   "execution_count": null,
   "metadata": {
    "id": "vyTz0Qtaw4_1"
   },
   "outputs": [],
   "source": []
  },
  {
   "cell_type": "code",
   "execution_count": null,
   "metadata": {
    "id": "_xl_8n7gw472"
   },
   "outputs": [],
   "source": []
  },
  {
   "cell_type": "markdown",
   "metadata": {
    "id": "SDItY9L-w2sc"
   },
   "source": [
    "***Briefly explain the logic and reasoning behind the method you have chosen for this classification***"
   ]
  },
  {
   "cell_type": "code",
   "execution_count": null,
   "metadata": {
    "id": "f6qpob2ZxBts"
   },
   "outputs": [],
   "source": []
  },
  {
   "cell_type": "code",
   "execution_count": null,
   "metadata": {
    "id": "I3FXM9cGxBqt"
   },
   "outputs": [],
   "source": []
  },
  {
   "cell_type": "code",
   "execution_count": null,
   "metadata": {
    "id": "ksihU5XNxBoH"
   },
   "outputs": [],
   "source": []
  },
  {
   "cell_type": "markdown",
   "metadata": {
    "id": "ekRNJPSJNjzN"
   },
   "source": [
    "**Part-B**\n",
    "\n",
    "Merge the regularity_df into the final_df so that all the features are available in one single dataframe."
   ]
  },
  {
   "cell_type": "code",
   "execution_count": null,
   "metadata": {
    "id": "chIeHWR5poAR"
   },
   "outputs": [],
   "source": []
  },
  {
   "cell_type": "code",
   "execution_count": null,
   "metadata": {
    "id": "nZFObQNTxDLp"
   },
   "outputs": [],
   "source": []
  },
  {
   "cell_type": "markdown",
   "metadata": {
    "id": "VOWdKxp6pp5R"
   },
   "source": [
    "# Question 6"
   ]
  },
  {
   "cell_type": "markdown",
   "metadata": {
    "id": "KhwFZg3wtTt9"
   },
   "source": [
    "**Part-A**\n",
    "\n",
    "Keeping in mind that the final_df contains a mix of categorical and numerical variables, find out if any of the features are correlated to each other using an appropriate method. Find out and report if any variables have a strong positive or negative correlation."
   ]
  },
  {
   "cell_type": "code",
   "execution_count": null,
   "metadata": {
    "id": "89XiGKxwqV2P"
   },
   "outputs": [],
   "source": []
  },
  {
   "cell_type": "code",
   "execution_count": null,
   "metadata": {
    "id": "Rq35-oL4xIFw"
   },
   "outputs": [],
   "source": []
  },
  {
   "cell_type": "code",
   "execution_count": null,
   "metadata": {
    "id": "jqpECK0HxIC_"
   },
   "outputs": [],
   "source": []
  },
  {
   "cell_type": "markdown",
   "metadata": {
    "id": "yiC6nrDLxKPl"
   },
   "source": [
    "***Briefly explain which method(s) you have chosen for measuring correlation amongst the variables and why.***"
   ]
  },
  {
   "cell_type": "code",
   "execution_count": null,
   "metadata": {
    "id": "fSJ4pE3zxTML"
   },
   "outputs": [],
   "source": []
  },
  {
   "cell_type": "code",
   "execution_count": null,
   "metadata": {
    "id": "sdFghrR1xTJi"
   },
   "outputs": [],
   "source": []
  },
  {
   "cell_type": "code",
   "execution_count": null,
   "metadata": {
    "id": "B4Hy03H3xIAo"
   },
   "outputs": [],
   "source": []
  },
  {
   "cell_type": "markdown",
   "metadata": {
    "id": "ue52UjI5x2Qj"
   },
   "source": [
    "# Question 7"
   ]
  },
  {
   "cell_type": "markdown",
   "metadata": {
    "id": "z4AZOMcLDNHr"
   },
   "source": [
    "Following a comprehensive analysis of the final_df, the next phase involves categorizing delivery agents into distinct groups or clusters.\n",
    "\n",
    "The primary aim of creating these groups is to uncover specific and noteworthy attributes within each group, enabling the formulation of targeted strategies for improvement in specific metrics.\n",
    "\n",
    "Typically, exceptional performing delivery agents exhibit elevated DSR (Delivery Success Rate), minimal deviations, heightened productivity, and consistent work attendance. Conversely, underperforming agents display contrasting characteristics. Furthermore, there will be individuals who fall within intermediate ranges."
   ]
  },
  {
   "cell_type": "markdown",
   "metadata": {
    "id": "FPJQVPe8Dh5X"
   },
   "source": [
    "**Part-A**\n",
    "\n",
    "* Keeping the context in mind, choose and implement a method to perform this grouping. Create a new column in the final_df called \"group\" to indicate which group each delivery agent belongs to.\n",
    "\n",
    "* You may choose to use hard coded rules for grouping the delivery agents (OR) you may even choose to use ML algorithms. Both approaches are valid as long as you are able to justify the logic and reasoning behind your approach."
   ]
  },
  {
   "cell_type": "markdown",
   "metadata": {
    "id": "ySCojU-iyq0R"
   },
   "source": [
    "**IMPORTANT NOTES:**\n",
    "\n",
    "* Remember that you have created several useful features that make analysis easier. Carefully go through all the features available and select only those which you think will help with creating groups.\n",
    "\n",
    "* Remember that performances are comparable across geographical areas. There is no reason to have different standards in different cities.\n",
    "\n",
    "\n",
    "\n",
    "* If you're finding it difficult to decide how many groups to divide them into, don't worry, this is common when dealing with data in the real world. Finding an appropriate solution requires trying out multiple approaches and analyzing results to select the method that makes the most logical sense or fetches the highest scores on certain metrics."
   ]
  },
  {
   "cell_type": "code",
   "execution_count": null,
   "metadata": {
    "id": "8Ct4-MHZx39-"
   },
   "outputs": [],
   "source": []
  },
  {
   "cell_type": "code",
   "execution_count": null,
   "metadata": {
    "id": "v9ZGU1M9H3ZR"
   },
   "outputs": [],
   "source": []
  },
  {
   "cell_type": "code",
   "execution_count": null,
   "metadata": {
    "id": "KUBLkCL3HuJo"
   },
   "outputs": [],
   "source": []
  },
  {
   "cell_type": "code",
   "execution_count": null,
   "metadata": {
    "id": "oHrJCE4A0WZL"
   },
   "outputs": [],
   "source": []
  },
  {
   "cell_type": "code",
   "execution_count": null,
   "metadata": {
    "id": "OOv9e9xrzcn-"
   },
   "outputs": [],
   "source": []
  },
  {
   "cell_type": "code",
   "execution_count": null,
   "metadata": {
    "id": "uRaBW_LJz9NB"
   },
   "outputs": [],
   "source": []
  },
  {
   "cell_type": "markdown",
   "metadata": {
    "id": "sEPzeC8xyRG-"
   },
   "source": [
    "***Explain why you have chosen this method. How many groups have you chosen to create and why?***"
   ]
  },
  {
   "cell_type": "code",
   "execution_count": null,
   "metadata": {
    "id": "uVrvibNE77V8"
   },
   "outputs": [],
   "source": []
  },
  {
   "cell_type": "code",
   "execution_count": null,
   "metadata": {
    "id": "xi-pEe0k8Tz5"
   },
   "outputs": [],
   "source": []
  },
  {
   "cell_type": "code",
   "execution_count": null,
   "metadata": {
    "id": "YaSnXy9r12Lh"
   },
   "outputs": [],
   "source": []
  },
  {
   "cell_type": "code",
   "execution_count": null,
   "metadata": {
    "id": "6teFKeqC7fW8"
   },
   "outputs": [],
   "source": []
  },
  {
   "cell_type": "code",
   "execution_count": null,
   "metadata": {
    "id": "bfyNvcL0Ba8n"
   },
   "outputs": [],
   "source": []
  },
  {
   "cell_type": "code",
   "execution_count": null,
   "metadata": {
    "id": "vS_i-DpqCGtk"
   },
   "outputs": [],
   "source": []
  },
  {
   "cell_type": "markdown",
   "metadata": {
    "id": "vHcsf0-0EOok"
   },
   "source": [
    "**Part-B**\n",
    "\n",
    "Now that the delivery agents are grouped, explore the descriptive statistics or distributions across all the features of each group. Based on that, make your recommendations for what areas need to be improved for each group.\n",
    "\n",
    "You may use the same methods used in previous questions to explore distributions."
   ]
  },
  {
   "cell_type": "code",
   "execution_count": null,
   "metadata": {
    "id": "q77etdKeLD7S"
   },
   "outputs": [],
   "source": []
  },
  {
   "cell_type": "code",
   "execution_count": null,
   "metadata": {
    "id": "MRyi5-O2mFLT"
   },
   "outputs": [],
   "source": []
  },
  {
   "cell_type": "code",
   "execution_count": null,
   "metadata": {
    "id": "YZ7EHzW6GHhK"
   },
   "outputs": [],
   "source": []
  },
  {
   "cell_type": "code",
   "execution_count": null,
   "metadata": {
    "id": "1065A3-EmJjA"
   },
   "outputs": [],
   "source": []
  },
  {
   "cell_type": "code",
   "execution_count": null,
   "metadata": {
    "id": "b6BShixJ4LYk"
   },
   "outputs": [],
   "source": []
  },
  {
   "cell_type": "code",
   "execution_count": null,
   "metadata": {
    "id": "HufVDauz4LQW"
   },
   "outputs": [],
   "source": []
  },
  {
   "cell_type": "code",
   "execution_count": null,
   "metadata": {
    "id": "DOnCNeH58RTK"
   },
   "outputs": [],
   "source": []
  },
  {
   "cell_type": "code",
   "execution_count": null,
   "metadata": {
    "id": "6IaqBRZ18TaC"
   },
   "outputs": [],
   "source": []
  }
 ],
 "metadata": {
  "colab": {
   "provenance": [],
   "toc_visible": true
  },
  "kernelspec": {
   "display_name": "Python 3 (ipykernel)",
   "language": "python",
   "name": "python3"
  },
  "language_info": {
   "codemirror_mode": {
    "name": "ipython",
    "version": 3
   },
   "file_extension": ".py",
   "mimetype": "text/x-python",
   "name": "python",
   "nbconvert_exporter": "python",
   "pygments_lexer": "ipython3",
   "version": "3.11.4"
  }
 },
 "nbformat": 4,
 "nbformat_minor": 1
}
